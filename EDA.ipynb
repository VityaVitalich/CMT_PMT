{
 "cells": [
  {
   "cell_type": "code",
   "execution_count": 1,
   "metadata": {},
   "outputs": [],
   "source": [
    "import numpy as np \n",
    "import pandas as pd\n",
    "import json \n",
    "import matplotlib.pyplot as plt\n",
    "from sklearn.model_selection import train_test_split\n",
    "from sklearn.linear_model import Ridge\n",
    "from sklearn.tree import DecisionTreeRegressor\n",
    "from sklearn.metrics import r2_score\n",
    "from sklearn.metrics import mean_squared_error\n",
    "from sklearn.metrics import roc_auc_score\n",
    "\n",
    "from tqdm import tqdm\n",
    "tqdm.pandas()\n",
    "from sklearn.linear_model import ElasticNet\n",
    "import statsmodels.api as sm\n",
    "from copy import deepcopy\n",
    "\n",
    "import Utils\n",
    "import models\n",
    "\n",
    "import warnings\n",
    "warnings.filterwarnings(\"ignore\")"
   ]
  },
  {
   "cell_type": "code",
   "execution_count": 2,
   "metadata": {},
   "outputs": [],
   "source": [
    "df = pd.read_json('./FeatureImportance_CLS.json')"
   ]
  },
  {
   "cell_type": "code",
   "execution_count": 3,
   "metadata": {},
   "outputs": [],
   "source": [
    "df = df.transpose()"
   ]
  },
  {
   "cell_type": "code",
   "execution_count": 4,
   "metadata": {},
   "outputs": [
    {
     "data": {
      "text/html": [
       "<div>\n",
       "<style scoped>\n",
       "    .dataframe tbody tr th:only-of-type {\n",
       "        vertical-align: middle;\n",
       "    }\n",
       "\n",
       "    .dataframe tbody tr th {\n",
       "        vertical-align: top;\n",
       "    }\n",
       "\n",
       "    .dataframe thead th {\n",
       "        text-align: right;\n",
       "    }\n",
       "</style>\n",
       "<table border=\"1\" class=\"dataframe\">\n",
       "  <thead>\n",
       "    <tr style=\"text-align: right;\">\n",
       "      <th></th>\n",
       "      <th>0</th>\n",
       "      <th>1</th>\n",
       "    </tr>\n",
       "  </thead>\n",
       "  <tbody>\n",
       "    <tr>\n",
       "      <th>O_12</th>\n",
       "      <td>[[O_SUB, 0.323851591312983], [SUB2, 0.10272724...</td>\n",
       "      <td>RF</td>\n",
       "    </tr>\n",
       "    <tr>\n",
       "      <th>O_23</th>\n",
       "      <td>[[SUB3, 0.30051052570343], [DIFF_SUB32, 0.1838...</td>\n",
       "      <td>GB</td>\n",
       "    </tr>\n",
       "    <tr>\n",
       "      <th>O_ADD</th>\n",
       "      <td>[[O_SUB, 0.288698980033186], [SUB3, 0.18133476...</td>\n",
       "      <td>RF</td>\n",
       "    </tr>\n",
       "    <tr>\n",
       "      <th>O_DIV</th>\n",
       "      <td>[[O_SUB, 0.296814166231604], [SUB3, 0.19470369...</td>\n",
       "      <td>RF</td>\n",
       "    </tr>\n",
       "    <tr>\n",
       "      <th>O_MUL</th>\n",
       "      <td>[[O_SUB, 0.43333867192268305], [SUB3, 0.295425...</td>\n",
       "      <td>GB</td>\n",
       "    </tr>\n",
       "    <tr>\n",
       "      <th>O_SUB</th>\n",
       "      <td>[[O_MUL, 0.13120858371257701], [MUL2, 0.089517...</td>\n",
       "      <td>GB</td>\n",
       "    </tr>\n",
       "  </tbody>\n",
       "</table>\n",
       "</div>"
      ],
      "text/plain": [
       "                                                       0   1\n",
       "O_12   [[O_SUB, 0.323851591312983], [SUB2, 0.10272724...  RF\n",
       "O_23   [[SUB3, 0.30051052570343], [DIFF_SUB32, 0.1838...  GB\n",
       "O_ADD  [[O_SUB, 0.288698980033186], [SUB3, 0.18133476...  RF\n",
       "O_DIV  [[O_SUB, 0.296814166231604], [SUB3, 0.19470369...  RF\n",
       "O_MUL  [[O_SUB, 0.43333867192268305], [SUB3, 0.295425...  GB\n",
       "O_SUB  [[O_MUL, 0.13120858371257701], [MUL2, 0.089517...  GB"
      ]
     },
     "execution_count": 4,
     "metadata": {},
     "output_type": "execute_result"
    }
   ],
   "source": [
    "df"
   ]
  },
  {
   "cell_type": "code",
   "execution_count": 5,
   "metadata": {},
   "outputs": [],
   "source": [
    "cols = []\n",
    "\n",
    "for idx in df.index:\n",
    "    cur_names = df[0][idx]\n",
    "    ls_names = [name[0] for name in cur_names]\n",
    "\n",
    "    cols.append(ls_names)"
   ]
  },
  {
   "cell_type": "code",
   "execution_count": 6,
   "metadata": {},
   "outputs": [
    {
     "data": {
      "text/plain": [
       "[['O_SUB', 'SUB2', 'n_sum', 'ADD2', 'ADD1'],\n",
       " ['SUB3', 'DIFF_SUB32', 'O_SUB', 'SUB2', 'DIFF_DIV21'],\n",
       " ['O_SUB', 'SUB3', 'SUB2', 'SUB1', 'MUL1'],\n",
       " ['O_SUB', 'SUB3', 'SUB2', 'ADD2', 'SUB1'],\n",
       " ['O_SUB', 'SUB3', 'ADD2', 'DIFF_ACC_SUB32', 'ADD1'],\n",
       " ['O_MUL', 'MUL2', 'DIFF_MUL31', 'ADD2', 'DIV2']]"
      ]
     },
     "execution_count": 6,
     "metadata": {},
     "output_type": "execute_result"
    }
   ],
   "source": [
    "cols"
   ]
  },
  {
   "cell_type": "code",
   "execution_count": 7,
   "metadata": {},
   "outputs": [],
   "source": [
    "for j in range(5):\n",
    "    name = 'feature ' + str(j+1)\n",
    "    df[name] = np.array(cols)[:,j]\n",
    "    "
   ]
  },
  {
   "cell_type": "code",
   "execution_count": 8,
   "metadata": {},
   "outputs": [
    {
     "data": {
      "text/html": [
       "<div>\n",
       "<style scoped>\n",
       "    .dataframe tbody tr th:only-of-type {\n",
       "        vertical-align: middle;\n",
       "    }\n",
       "\n",
       "    .dataframe tbody tr th {\n",
       "        vertical-align: top;\n",
       "    }\n",
       "\n",
       "    .dataframe thead th {\n",
       "        text-align: right;\n",
       "    }\n",
       "</style>\n",
       "<table border=\"1\" class=\"dataframe\">\n",
       "  <thead>\n",
       "    <tr style=\"text-align: right;\">\n",
       "      <th></th>\n",
       "      <th>0</th>\n",
       "      <th>1</th>\n",
       "      <th>feature 1</th>\n",
       "      <th>feature 2</th>\n",
       "      <th>feature 3</th>\n",
       "      <th>feature 4</th>\n",
       "      <th>feature 5</th>\n",
       "    </tr>\n",
       "  </thead>\n",
       "  <tbody>\n",
       "    <tr>\n",
       "      <th>O_12</th>\n",
       "      <td>[[O_SUB, 0.323851591312983], [SUB2, 0.10272724...</td>\n",
       "      <td>RF</td>\n",
       "      <td>O_SUB</td>\n",
       "      <td>SUB2</td>\n",
       "      <td>n_sum</td>\n",
       "      <td>ADD2</td>\n",
       "      <td>ADD1</td>\n",
       "    </tr>\n",
       "    <tr>\n",
       "      <th>O_23</th>\n",
       "      <td>[[SUB3, 0.30051052570343], [DIFF_SUB32, 0.1838...</td>\n",
       "      <td>GB</td>\n",
       "      <td>SUB3</td>\n",
       "      <td>DIFF_SUB32</td>\n",
       "      <td>O_SUB</td>\n",
       "      <td>SUB2</td>\n",
       "      <td>DIFF_DIV21</td>\n",
       "    </tr>\n",
       "    <tr>\n",
       "      <th>O_ADD</th>\n",
       "      <td>[[O_SUB, 0.288698980033186], [SUB3, 0.18133476...</td>\n",
       "      <td>RF</td>\n",
       "      <td>O_SUB</td>\n",
       "      <td>SUB3</td>\n",
       "      <td>SUB2</td>\n",
       "      <td>SUB1</td>\n",
       "      <td>MUL1</td>\n",
       "    </tr>\n",
       "    <tr>\n",
       "      <th>O_DIV</th>\n",
       "      <td>[[O_SUB, 0.296814166231604], [SUB3, 0.19470369...</td>\n",
       "      <td>RF</td>\n",
       "      <td>O_SUB</td>\n",
       "      <td>SUB3</td>\n",
       "      <td>SUB2</td>\n",
       "      <td>ADD2</td>\n",
       "      <td>SUB1</td>\n",
       "    </tr>\n",
       "    <tr>\n",
       "      <th>O_MUL</th>\n",
       "      <td>[[O_SUB, 0.43333867192268305], [SUB3, 0.295425...</td>\n",
       "      <td>GB</td>\n",
       "      <td>O_SUB</td>\n",
       "      <td>SUB3</td>\n",
       "      <td>ADD2</td>\n",
       "      <td>DIFF_ACC_SUB32</td>\n",
       "      <td>ADD1</td>\n",
       "    </tr>\n",
       "    <tr>\n",
       "      <th>O_SUB</th>\n",
       "      <td>[[O_MUL, 0.13120858371257701], [MUL2, 0.089517...</td>\n",
       "      <td>GB</td>\n",
       "      <td>O_MUL</td>\n",
       "      <td>MUL2</td>\n",
       "      <td>DIFF_MUL31</td>\n",
       "      <td>ADD2</td>\n",
       "      <td>DIV2</td>\n",
       "    </tr>\n",
       "  </tbody>\n",
       "</table>\n",
       "</div>"
      ],
      "text/plain": [
       "                                                       0   1 feature 1  \\\n",
       "O_12   [[O_SUB, 0.323851591312983], [SUB2, 0.10272724...  RF     O_SUB   \n",
       "O_23   [[SUB3, 0.30051052570343], [DIFF_SUB32, 0.1838...  GB      SUB3   \n",
       "O_ADD  [[O_SUB, 0.288698980033186], [SUB3, 0.18133476...  RF     O_SUB   \n",
       "O_DIV  [[O_SUB, 0.296814166231604], [SUB3, 0.19470369...  RF     O_SUB   \n",
       "O_MUL  [[O_SUB, 0.43333867192268305], [SUB3, 0.295425...  GB     O_SUB   \n",
       "O_SUB  [[O_MUL, 0.13120858371257701], [MUL2, 0.089517...  GB     O_MUL   \n",
       "\n",
       "        feature 2   feature 3       feature 4   feature 5  \n",
       "O_12         SUB2       n_sum            ADD2        ADD1  \n",
       "O_23   DIFF_SUB32       O_SUB            SUB2  DIFF_DIV21  \n",
       "O_ADD        SUB3        SUB2            SUB1        MUL1  \n",
       "O_DIV        SUB3        SUB2            ADD2        SUB1  \n",
       "O_MUL        SUB3        ADD2  DIFF_ACC_SUB32        ADD1  \n",
       "O_SUB        MUL2  DIFF_MUL31            ADD2        DIV2  "
      ]
     },
     "execution_count": 8,
     "metadata": {},
     "output_type": "execute_result"
    }
   ],
   "source": [
    "df"
   ]
  },
  {
   "cell_type": "code",
   "execution_count": 40,
   "metadata": {},
   "outputs": [],
   "source": [
    "df.drop(columns=[0]).to_excel('FI_CLS.xlsx')"
   ]
  },
  {
   "cell_type": "code",
   "execution_count": 9,
   "metadata": {},
   "outputs": [],
   "source": [
    "df = pd.read_excel('Cleaned_data.xlsx')\n",
    "df1 = pd.read_excel('PMT_N+2SD+3SD.xlsx', sheet_name='N-2SD')\n"
   ]
  },
  {
   "cell_type": "code",
   "execution_count": 10,
   "metadata": {},
   "outputs": [
    {
     "data": {
      "text/html": [
       "<div>\n",
       "<style scoped>\n",
       "    .dataframe tbody tr th:only-of-type {\n",
       "        vertical-align: middle;\n",
       "    }\n",
       "\n",
       "    .dataframe tbody tr th {\n",
       "        vertical-align: top;\n",
       "    }\n",
       "\n",
       "    .dataframe thead th {\n",
       "        text-align: right;\n",
       "    }\n",
       "</style>\n",
       "<table border=\"1\" class=\"dataframe\">\n",
       "  <thead>\n",
       "    <tr style=\"text-align: right;\">\n",
       "      <th></th>\n",
       "      <th>age</th>\n",
       "      <th>gender</th>\n",
       "      <th>log</th>\n",
       "      <th>ADD1</th>\n",
       "      <th>ADD2</th>\n",
       "      <th>ADD3</th>\n",
       "      <th>DIV1</th>\n",
       "      <th>DIV2</th>\n",
       "      <th>DIV3</th>\n",
       "      <th>MUL1</th>\n",
       "      <th>...</th>\n",
       "      <th>rt_2_cl</th>\n",
       "      <th>rt_3_cl</th>\n",
       "      <th>rt_4_cl</th>\n",
       "      <th>rt_5_cl</th>\n",
       "      <th>rt_6_cl</th>\n",
       "      <th>n_sum</th>\n",
       "      <th>rt_mean</th>\n",
       "      <th>rt_cmt_mean</th>\n",
       "      <th>rt_bal</th>\n",
       "      <th>rt_cl</th>\n",
       "    </tr>\n",
       "  </thead>\n",
       "  <tbody>\n",
       "    <tr>\n",
       "      <th>0</th>\n",
       "      <td>21</td>\n",
       "      <td>F</td>\n",
       "      <td>P-PSH-21-F-CC-9999-MOON2021-DRXX-0017</td>\n",
       "      <td>0.857143</td>\n",
       "      <td>1.000000</td>\n",
       "      <td>1.000000</td>\n",
       "      <td>0.571429</td>\n",
       "      <td>0.222222</td>\n",
       "      <td>0.750000</td>\n",
       "      <td>0.777778</td>\n",
       "      <td>...</td>\n",
       "      <td>1.280286</td>\n",
       "      <td>1.525667</td>\n",
       "      <td>1.341479</td>\n",
       "      <td>1.661812</td>\n",
       "      <td>1.733108</td>\n",
       "      <td>200</td>\n",
       "      <td>8.374756</td>\n",
       "      <td>1.424394</td>\n",
       "      <td>1.406735</td>\n",
       "      <td>1.442054</td>\n",
       "    </tr>\n",
       "    <tr>\n",
       "      <th>1</th>\n",
       "      <td>22</td>\n",
       "      <td>M</td>\n",
       "      <td>P-AKR-22-M-CC-9999-MOON2021-FZXX-0020</td>\n",
       "      <td>0.923077</td>\n",
       "      <td>0.750000</td>\n",
       "      <td>0.857143</td>\n",
       "      <td>0.909091</td>\n",
       "      <td>0.642857</td>\n",
       "      <td>0.225490</td>\n",
       "      <td>1.000000</td>\n",
       "      <td>...</td>\n",
       "      <td>1.175483</td>\n",
       "      <td>1.383899</td>\n",
       "      <td>1.505657</td>\n",
       "      <td>1.555550</td>\n",
       "      <td>1.596242</td>\n",
       "      <td>282</td>\n",
       "      <td>3.584204</td>\n",
       "      <td>1.281989</td>\n",
       "      <td>1.165923</td>\n",
       "      <td>1.398056</td>\n",
       "    </tr>\n",
       "    <tr>\n",
       "      <th>2</th>\n",
       "      <td>26</td>\n",
       "      <td>F</td>\n",
       "      <td>P-VTE-26-F-CC-9999-MOON2021-AVXX-0021</td>\n",
       "      <td>0.901639</td>\n",
       "      <td>0.960000</td>\n",
       "      <td>0.700000</td>\n",
       "      <td>0.758621</td>\n",
       "      <td>0.923077</td>\n",
       "      <td>0.833333</td>\n",
       "      <td>0.967213</td>\n",
       "      <td>...</td>\n",
       "      <td>1.332060</td>\n",
       "      <td>1.531029</td>\n",
       "      <td>1.695992</td>\n",
       "      <td>1.855483</td>\n",
       "      <td>1.838667</td>\n",
       "      <td>220</td>\n",
       "      <td>4.714379</td>\n",
       "      <td>1.336453</td>\n",
       "      <td>1.140416</td>\n",
       "      <td>1.532491</td>\n",
       "    </tr>\n",
       "    <tr>\n",
       "      <th>3</th>\n",
       "      <td>21</td>\n",
       "      <td>F</td>\n",
       "      <td>P-VVN-21-F-CC-9999-MOON2021-NBXX-0022</td>\n",
       "      <td>0.857143</td>\n",
       "      <td>0.545455</td>\n",
       "      <td>0.625000</td>\n",
       "      <td>0.789474</td>\n",
       "      <td>0.000000</td>\n",
       "      <td>0.363636</td>\n",
       "      <td>0.962963</td>\n",
       "      <td>...</td>\n",
       "      <td>1.405860</td>\n",
       "      <td>1.515236</td>\n",
       "      <td>1.716597</td>\n",
       "      <td>1.810916</td>\n",
       "      <td>1.720678</td>\n",
       "      <td>167</td>\n",
       "      <td>8.011617</td>\n",
       "      <td>1.407329</td>\n",
       "      <td>1.196113</td>\n",
       "      <td>1.618546</td>\n",
       "    </tr>\n",
       "    <tr>\n",
       "      <th>4</th>\n",
       "      <td>20</td>\n",
       "      <td>F</td>\n",
       "      <td>P-PKI-20-F-CC-9999-MOON2021-NDXX-0023</td>\n",
       "      <td>0.878788</td>\n",
       "      <td>0.515152</td>\n",
       "      <td>0.380952</td>\n",
       "      <td>0.735294</td>\n",
       "      <td>0.483871</td>\n",
       "      <td>0.421053</td>\n",
       "      <td>0.805556</td>\n",
       "      <td>...</td>\n",
       "      <td>1.039899</td>\n",
       "      <td>1.152940</td>\n",
       "      <td>1.595164</td>\n",
       "      <td>1.322001</td>\n",
       "      <td>1.289122</td>\n",
       "      <td>224</td>\n",
       "      <td>3.474093</td>\n",
       "      <td>1.251194</td>\n",
       "      <td>1.202659</td>\n",
       "      <td>1.299728</td>\n",
       "    </tr>\n",
       "    <tr>\n",
       "      <th>...</th>\n",
       "      <td>...</td>\n",
       "      <td>...</td>\n",
       "      <td>...</td>\n",
       "      <td>...</td>\n",
       "      <td>...</td>\n",
       "      <td>...</td>\n",
       "      <td>...</td>\n",
       "      <td>...</td>\n",
       "      <td>...</td>\n",
       "      <td>...</td>\n",
       "      <td>...</td>\n",
       "      <td>...</td>\n",
       "      <td>...</td>\n",
       "      <td>...</td>\n",
       "      <td>...</td>\n",
       "      <td>...</td>\n",
       "      <td>...</td>\n",
       "      <td>...</td>\n",
       "      <td>...</td>\n",
       "      <td>...</td>\n",
       "      <td>...</td>\n",
       "    </tr>\n",
       "    <tr>\n",
       "      <th>215</th>\n",
       "      <td>13</td>\n",
       "      <td>F</td>\n",
       "      <td>P-VMU-13-F-7A-0006-VOON2022-VSXX-2448</td>\n",
       "      <td>0.944444</td>\n",
       "      <td>0.941176</td>\n",
       "      <td>0.666667</td>\n",
       "      <td>0.794118</td>\n",
       "      <td>0.454545</td>\n",
       "      <td>0.285714</td>\n",
       "      <td>0.897436</td>\n",
       "      <td>...</td>\n",
       "      <td>1.042415</td>\n",
       "      <td>1.454189</td>\n",
       "      <td>1.425826</td>\n",
       "      <td>1.499109</td>\n",
       "      <td>1.407632</td>\n",
       "      <td>183</td>\n",
       "      <td>5.609418</td>\n",
       "      <td>1.243259</td>\n",
       "      <td>1.201607</td>\n",
       "      <td>1.284911</td>\n",
       "    </tr>\n",
       "    <tr>\n",
       "      <th>216</th>\n",
       "      <td>14</td>\n",
       "      <td>M</td>\n",
       "      <td>P-PMO-14-M-8A-RZ25-VION2022-EBXX-2457</td>\n",
       "      <td>0.957000</td>\n",
       "      <td>0.905000</td>\n",
       "      <td>0.500000</td>\n",
       "      <td>0.933000</td>\n",
       "      <td>0.941000</td>\n",
       "      <td>0.833000</td>\n",
       "      <td>0.962000</td>\n",
       "      <td>...</td>\n",
       "      <td>1.521549</td>\n",
       "      <td>1.975812</td>\n",
       "      <td>1.888273</td>\n",
       "      <td>2.078682</td>\n",
       "      <td>1.959939</td>\n",
       "      <td>229</td>\n",
       "      <td>3.002000</td>\n",
       "      <td>1.688125</td>\n",
       "      <td>1.608419</td>\n",
       "      <td>1.767831</td>\n",
       "    </tr>\n",
       "    <tr>\n",
       "      <th>217</th>\n",
       "      <td>17</td>\n",
       "      <td>F</td>\n",
       "      <td>P-SKU-17-F-11B-1210-MOON2022-SGXX-2458</td>\n",
       "      <td>0.857000</td>\n",
       "      <td>0.545000</td>\n",
       "      <td>0.444000</td>\n",
       "      <td>0.962000</td>\n",
       "      <td>0.841000</td>\n",
       "      <td>0.894000</td>\n",
       "      <td>0.897000</td>\n",
       "      <td>...</td>\n",
       "      <td>0.963200</td>\n",
       "      <td>1.237517</td>\n",
       "      <td>1.571598</td>\n",
       "      <td>1.554479</td>\n",
       "      <td>1.590773</td>\n",
       "      <td>170</td>\n",
       "      <td>3.922667</td>\n",
       "      <td>1.179426</td>\n",
       "      <td>1.068871</td>\n",
       "      <td>1.289982</td>\n",
       "    </tr>\n",
       "    <tr>\n",
       "      <th>218</th>\n",
       "      <td>14</td>\n",
       "      <td>M</td>\n",
       "      <td>P-MMI-14-M-7C-1874-MOON2022-SGXX-2460</td>\n",
       "      <td>0.973000</td>\n",
       "      <td>0.923000</td>\n",
       "      <td>0.800000</td>\n",
       "      <td>1.000000</td>\n",
       "      <td>0.921000</td>\n",
       "      <td>0.870000</td>\n",
       "      <td>0.930000</td>\n",
       "      <td>...</td>\n",
       "      <td>1.353411</td>\n",
       "      <td>1.382298</td>\n",
       "      <td>1.414847</td>\n",
       "      <td>1.841210</td>\n",
       "      <td>1.773672</td>\n",
       "      <td>211</td>\n",
       "      <td>3.746583</td>\n",
       "      <td>1.379223</td>\n",
       "      <td>1.304954</td>\n",
       "      <td>1.453492</td>\n",
       "    </tr>\n",
       "    <tr>\n",
       "      <th>219</th>\n",
       "      <td>16</td>\n",
       "      <td>M</td>\n",
       "      <td>P-PFI-16-M-AB-MECZ-MOON2022-SGXX-2461</td>\n",
       "      <td>0.865000</td>\n",
       "      <td>0.857000</td>\n",
       "      <td>1.000000</td>\n",
       "      <td>0.971000</td>\n",
       "      <td>1.000000</td>\n",
       "      <td>0.976000</td>\n",
       "      <td>0.923000</td>\n",
       "      <td>...</td>\n",
       "      <td>1.623837</td>\n",
       "      <td>2.119840</td>\n",
       "      <td>2.269684</td>\n",
       "      <td>2.455178</td>\n",
       "      <td>2.489123</td>\n",
       "      <td>148</td>\n",
       "      <td>6.222000</td>\n",
       "      <td>1.931807</td>\n",
       "      <td>1.852158</td>\n",
       "      <td>2.011456</td>\n",
       "    </tr>\n",
       "  </tbody>\n",
       "</table>\n",
       "<p>220 rows × 70 columns</p>\n",
       "</div>"
      ],
      "text/plain": [
       "     age gender                                     log      ADD1      ADD2  \\\n",
       "0     21      F   P-PSH-21-F-CC-9999-MOON2021-DRXX-0017  0.857143  1.000000   \n",
       "1     22      M   P-AKR-22-M-CC-9999-MOON2021-FZXX-0020  0.923077  0.750000   \n",
       "2     26      F   P-VTE-26-F-CC-9999-MOON2021-AVXX-0021  0.901639  0.960000   \n",
       "3     21      F   P-VVN-21-F-CC-9999-MOON2021-NBXX-0022  0.857143  0.545455   \n",
       "4     20      F   P-PKI-20-F-CC-9999-MOON2021-NDXX-0023  0.878788  0.515152   \n",
       "..   ...    ...                                     ...       ...       ...   \n",
       "215   13      F   P-VMU-13-F-7A-0006-VOON2022-VSXX-2448  0.944444  0.941176   \n",
       "216   14      M   P-PMO-14-M-8A-RZ25-VION2022-EBXX-2457  0.957000  0.905000   \n",
       "217   17      F  P-SKU-17-F-11B-1210-MOON2022-SGXX-2458  0.857000  0.545000   \n",
       "218   14      M   P-MMI-14-M-7C-1874-MOON2022-SGXX-2460  0.973000  0.923000   \n",
       "219   16      M   P-PFI-16-M-AB-MECZ-MOON2022-SGXX-2461  0.865000  0.857000   \n",
       "\n",
       "         ADD3      DIV1      DIV2      DIV3      MUL1  ...   rt_2_cl  \\\n",
       "0    1.000000  0.571429  0.222222  0.750000  0.777778  ...  1.280286   \n",
       "1    0.857143  0.909091  0.642857  0.225490  1.000000  ...  1.175483   \n",
       "2    0.700000  0.758621  0.923077  0.833333  0.967213  ...  1.332060   \n",
       "3    0.625000  0.789474  0.000000  0.363636  0.962963  ...  1.405860   \n",
       "4    0.380952  0.735294  0.483871  0.421053  0.805556  ...  1.039899   \n",
       "..        ...       ...       ...       ...       ...  ...       ...   \n",
       "215  0.666667  0.794118  0.454545  0.285714  0.897436  ...  1.042415   \n",
       "216  0.500000  0.933000  0.941000  0.833000  0.962000  ...  1.521549   \n",
       "217  0.444000  0.962000  0.841000  0.894000  0.897000  ...  0.963200   \n",
       "218  0.800000  1.000000  0.921000  0.870000  0.930000  ...  1.353411   \n",
       "219  1.000000  0.971000  1.000000  0.976000  0.923000  ...  1.623837   \n",
       "\n",
       "      rt_3_cl   rt_4_cl   rt_5_cl   rt_6_cl  n_sum   rt_mean  rt_cmt_mean  \\\n",
       "0    1.525667  1.341479  1.661812  1.733108    200  8.374756     1.424394   \n",
       "1    1.383899  1.505657  1.555550  1.596242    282  3.584204     1.281989   \n",
       "2    1.531029  1.695992  1.855483  1.838667    220  4.714379     1.336453   \n",
       "3    1.515236  1.716597  1.810916  1.720678    167  8.011617     1.407329   \n",
       "4    1.152940  1.595164  1.322001  1.289122    224  3.474093     1.251194   \n",
       "..        ...       ...       ...       ...    ...       ...          ...   \n",
       "215  1.454189  1.425826  1.499109  1.407632    183  5.609418     1.243259   \n",
       "216  1.975812  1.888273  2.078682  1.959939    229  3.002000     1.688125   \n",
       "217  1.237517  1.571598  1.554479  1.590773    170  3.922667     1.179426   \n",
       "218  1.382298  1.414847  1.841210  1.773672    211  3.746583     1.379223   \n",
       "219  2.119840  2.269684  2.455178  2.489123    148  6.222000     1.931807   \n",
       "\n",
       "       rt_bal     rt_cl  \n",
       "0    1.406735  1.442054  \n",
       "1    1.165923  1.398056  \n",
       "2    1.140416  1.532491  \n",
       "3    1.196113  1.618546  \n",
       "4    1.202659  1.299728  \n",
       "..        ...       ...  \n",
       "215  1.201607  1.284911  \n",
       "216  1.608419  1.767831  \n",
       "217  1.068871  1.289982  \n",
       "218  1.304954  1.453492  \n",
       "219  1.852158  2.011456  \n",
       "\n",
       "[220 rows x 70 columns]"
      ]
     },
     "execution_count": 10,
     "metadata": {},
     "output_type": "execute_result"
    }
   ],
   "source": [
    "df"
   ]
  },
  {
   "cell_type": "code",
   "execution_count": 11,
   "metadata": {},
   "outputs": [],
   "source": [
    "over_perf = df1.filter(regex = 'Overperformers')\n",
    "over_perf['log'] = df1['LOG']\n",
    "#over_perf = over_perf.drop(columns=['Overperformers on levels 1 and 2', 'Overperformers on levels 2 and 3'])\n",
    "over_perf = over_perf.fillna(0).loc[:342]\n",
    "df = df.merge(over_perf, on='log', how='left')\n",
    "\n",
    "\n",
    "df = df.drop(columns=['log'])\n",
    "df['gender'] = pd.factorize(df['gender'])[0]\n",
    "\n",
    "\n",
    "df.columns = ['age', 'gender', 'ACC_ADD1', 'ACC_ADD2', 'ACC_ADD3', 'ACC_DIV1', 'ACC_DIV2', 'ACC_DIV3', 'ACC_MUL1',\n",
    "       'ACC_MUL2', 'ACC_MUL3', 'ACC_SUB1', 'ACC_SUB2', 'ACC_SUB3', 'RT_ADD1', 'RT_ADD2', 'RT_ADD3',\n",
    "       'RT_DIV1', 'RT_DIV2', 'RT_DIV3', 'RT_MUL1', 'RT_MUL2', 'RT_MUL3',\n",
    "       'RT_SUB1', 'RT_SUB2', 'RT_SUB3', 'ADD1', 'ADD2', 'ADD3', 'DIV1',\n",
    "       'DIV2', 'DIV3', 'MUL1', 'MUL2', 'MUL3', 'SUB1', 'SUB2',\n",
    "       'SUB3', 'm_score_bal', 'acc_1_bal', 'acc_2_bal', 'acc_3_bal',\n",
    "       'acc_4_bal', 'acc_5_bal', 'acc_6_bal', 'rt_1_bal', 'rt_2_bal',\n",
    "       'rt_3_bal', 'rt_4_bal', 'rt_5_bal', 'rt_6_bal', 'm_score_cl',\n",
    "       'acc_1_cl', 'acc_2_cl', 'acc_3_cl', 'acc_4_cl', 'acc_5_cl', 'acc_6_cl',\n",
    "       'rt_1_cl', 'rt_2_cl', 'rt_3_cl', 'rt_4_cl', 'rt_5_cl', 'rt_6_cl',\n",
    "       'n_sum', 'rt_mean', 'rt_cmt_mean', 'rt_bal', 'rt_cl', 'O_12', 'O_23', 'O_ADD', 'O_DIV','O_MUL', 'O_SUB']\n",
    "\n",
    "\n",
    "df['O_12'][(df['O_12'] == ' 1+2')] = 1\n",
    "df['O_12'] = df['O_12'].astype(int)\n",
    "df['O_23'][(df['O_23'] == ' 2+3')] = 1\n",
    "df['O_23'] = df['O_23'].astype(int)\n",
    "\n",
    "\n",
    "seed = 0xAB0BA\n",
    "np.random.seed(seed)"
   ]
  },
  {
   "cell_type": "code",
   "execution_count": 12,
   "metadata": {},
   "outputs": [],
   "source": [
    "types = ['ACC_', 'RT_', '']\n",
    "names = ['ADD', \"DIV\", \"MUL\", \"SUB\"]\n",
    "\n",
    "for t in types:\n",
    "    for name in names:\n",
    "        col_name = t+name\n",
    "        new_name = 'DIFF_' + col_name\n",
    "\n",
    "        df[new_name + '21'] = df[col_name+'2'] - df[col_name+'1']\n",
    "        df[new_name + '32'] = df[col_name+'3'] - df[col_name+'2']\n",
    "        df[new_name + '31'] = df[col_name+'3'] - df[col_name+'1']\n",
    "\n"
   ]
  },
  {
   "cell_type": "code",
   "execution_count": 13,
   "metadata": {},
   "outputs": [],
   "source": [
    "def create_y(df, cls=False):\n",
    "    var_names = []\n",
    "\n",
    "    if not cls:\n",
    "\n",
    "        for i in range(26, 38):\n",
    "            name = df.iloc[:,i].name\n",
    "            vals = df.iloc[:,i]\n",
    "\n",
    "            var_names.append(name)\n",
    "\n",
    "            globals()[name] = vals\n",
    "\n",
    "        for i in range(2, 14):\n",
    "            name = df.iloc[:,i].name\n",
    "            vals = df.iloc[:,i]\n",
    "\n",
    "            var_names.append(name)\n",
    "\n",
    "            globals()[name] = vals\n",
    "\n",
    "\n",
    "        global ADD \n",
    "        global DIV\n",
    "        global SUB\n",
    "        global MUL\n",
    "\n",
    "        global SUM\n",
    "        \n",
    "        ADD = ADD1 + ADD2 + ADD3\n",
    "        DIV = DIV1 + DIV2 + DIV3\n",
    "        SUB = SUB1 + SUB2 + SUB3\n",
    "        MUL = MUL1 + MUL2 + MUL3\n",
    "        \n",
    "        SUM = ADD + DIV + SUB + MUL\n",
    "\n",
    "        var_names += ['ADD', 'DIV', \"MUL\", 'SUB', \"SUM\"]\n",
    "\n",
    "    else:\n",
    "        for i in range(69, 75):\n",
    "            name = df.iloc[:,i].name\n",
    "            vals = df.iloc[:,i]\n",
    "\n",
    "            var_names.append(name)\n",
    "\n",
    "            globals()[name] = vals\n",
    "\n",
    "    \n",
    "    return var_names\n",
    "\n",
    "\n",
    "\n",
    "\n",
    "\n",
    "\n",
    "\n",
    "var_names = create_y(df)\n",
    "\n",
    "var_names_cls = create_y(df, cls=True)"
   ]
  },
  {
   "cell_type": "markdown",
   "metadata": {},
   "source": [
    "# Statmodels"
   ]
  },
  {
   "cell_type": "code",
   "execution_count": 11,
   "metadata": {},
   "outputs": [
    {
     "name": "stderr",
     "output_type": "stream",
     "text": [
      "100%|██████████| 29/29 [00:00<00:00, 45.26it/s]\n"
     ]
    }
   ],
   "source": [
    "results = {}\n",
    "\n",
    "for name in tqdm(var_names):\n",
    "    \n",
    "    y = globals()[name]\n",
    "    \n",
    "    X = Utils.make_X(df, name)\n",
    "    \n",
    "    y_pred, y_test, r2, rmse = models.LinRegSklearn(X, y, alpha = 3.15, l1_ratio = 0.1, normalize = False, max_iter = 5000)\n",
    "    \n",
    "    results[name] = rmse"
   ]
  },
  {
   "cell_type": "code",
   "execution_count": 12,
   "metadata": {},
   "outputs": [
    {
     "data": {
      "text/plain": [
       "{'ADD1': 6.636731369335789,\n",
       " 'ADD2': 3.272932812384801,\n",
       " 'ADD3': 2.466449449149984,\n",
       " 'DIV1': 6.6354430041517265,\n",
       " 'DIV2': 3.811576571420508,\n",
       " 'DIV3': 1.9540534093153807,\n",
       " 'MUL1': 6.598982412791593,\n",
       " 'MUL2': 2.7774286020580616,\n",
       " 'MUL3': 2.1962319232915632,\n",
       " 'SUB1': 6.232658490166705,\n",
       " 'SUB2': 2.8833083690343484,\n",
       " 'SUB3': 1.6607113476959185,\n",
       " 'ACC_ADD1': 0.10553090292237144,\n",
       " 'ACC_ADD2': 0.16961356591505222,\n",
       " 'ACC_ADD3': 0.21610031050299014,\n",
       " 'ACC_DIV1': 0.16363677020316802,\n",
       " 'ACC_DIV2': 0.24851286131851277,\n",
       " 'ACC_DIV3': 0.2605392790692473,\n",
       " 'ACC_MUL1': 0.13646243744789482,\n",
       " 'ACC_MUL2': 0.2226313895020094,\n",
       " 'ACC_MUL3': 0.27579770173212576,\n",
       " 'ACC_SUB1': 0.13047999610681327,\n",
       " 'ACC_SUB2': 0.25053092621181466,\n",
       " 'ACC_SUB3': 0.3756052659154964,\n",
       " 'ADD': 6.88506387876382,\n",
       " 'DIV': 10.48971297714124,\n",
       " 'MUL': 8.97036658439335,\n",
       " 'SUB': 7.738309178043247,\n",
       " 'SUM': 1.1320211018096382}"
      ]
     },
     "execution_count": 12,
     "metadata": {},
     "output_type": "execute_result"
    }
   ],
   "source": [
    "results"
   ]
  },
  {
   "cell_type": "code",
   "execution_count": 13,
   "metadata": {},
   "outputs": [
    {
     "name": "stderr",
     "output_type": "stream",
     "text": [
      "100%|██████████| 6/6 [00:08<00:00,  1.49s/it]\n"
     ]
    }
   ],
   "source": [
    "results = {}\n",
    "\n",
    "for name in tqdm(var_names_cls):\n",
    "    \n",
    "    y = globals()[name]\n",
    "    \n",
    "    X = Utils.make_X(df, name)\n",
    "    \n",
    "    y_pred, y_test, metrics = models.LogRegSklearn(X, y, max_iter = 5000)\n",
    "    \n",
    "    roc_auc = roc_auc_score(y_test, y_pred)\n",
    "    \n",
    "    results[name] = (metrics[0], metrics[1], roc_auc)"
   ]
  },
  {
   "cell_type": "code",
   "execution_count": 14,
   "metadata": {},
   "outputs": [
    {
     "data": {
      "text/plain": [
       "{'O_12': (0.8582314371788056, 0.8636363636363636, 0.7142857142857143),\n",
       " 'O_23': (0.9696969696969697, 0.9090909090909091, 0.9523809523809523),\n",
       " 'O_ADD': (0.7612471405574854, 0.7575757575757576, 0.7549857549857549),\n",
       " 'O_DIV': (0.8876033057851239, 0.8181818181818182, 0.6262295081967213),\n",
       " 'O_MUL': (0.8787878787878788, 0.8787878787878788, 0.7155172413793104),\n",
       " 'O_SUB': (0.7685227272727272, 0.7727272727272727, 0.6932773109243697)}"
      ]
     },
     "execution_count": 14,
     "metadata": {},
     "output_type": "execute_result"
    }
   ],
   "source": [
    "results"
   ]
  },
  {
   "cell_type": "code",
   "execution_count": 15,
   "metadata": {},
   "outputs": [
    {
     "name": "stderr",
     "output_type": "stream",
     "text": [
      "  0%|          | 0/29 [00:00<?, ?it/s]"
     ]
    },
    {
     "name": "stderr",
     "output_type": "stream",
     "text": [
      "100%|██████████| 29/29 [00:26<00:00,  1.09it/s]\n"
     ]
    }
   ],
   "source": [
    "results = {}\n",
    "\n",
    "for name in tqdm(var_names):\n",
    "    X = Utils.make_X(df, name)\n",
    "    y = globals()[name]\n",
    "    \n",
    "    res = models.LinRegStatmodels(X, y)\n",
    "    \n",
    "    r2 = res.rsquared\n",
    "    params = res.params.index\n",
    "    \n",
    "    results[name] = res"
   ]
  },
  {
   "cell_type": "code",
   "execution_count": 16,
   "metadata": {},
   "outputs": [],
   "source": [
    "params_frequency = {}\n",
    "for name in df.columns:\n",
    "    params_frequency[name] = set()\n",
    "\n",
    "params_frequency['const'] = set()\n",
    "\n",
    "for res in results:\n",
    "    for param_name in results[res].params.index:\n",
    "        params_frequency[param_name].add(res)\n",
    "\n",
    "for name in params_frequency:\n",
    "    new_input = str(params_frequency[name])\n",
    "    if new_input == 'set()':\n",
    "        new_input = ''\n",
    "    params_frequency[name] = new_input\n",
    "\n",
    "with open(\"params_in_models.json\", \"w\") as outfile:\n",
    "    json.dump(params_frequency, outfile, indent=4)\n",
    "\n",
    "\n",
    "r2_dict = {}\n",
    "for name in results:\n",
    "    r2_dict[name] = results[name].rsquared\n",
    "\n",
    "with open(\"r2_LinReg.json\", \"w\") as outfile:\n",
    "    json.dump(r2_dict, outfile, indent=4)\n",
    "\n",
    "\n",
    "rmse_dict = {}\n",
    "for name in results:\n",
    "    rmse_dict[name] = float(np.sqrt(results[name].mse_total))\n",
    "\n",
    "with open(\"rmse_LinReg.json\", \"w\") as outfile:\n",
    "    json.dump(rmse_dict, outfile, indent=4)"
   ]
  },
  {
   "cell_type": "code",
   "execution_count": 18,
   "metadata": {},
   "outputs": [
    {
     "data": {
      "text/html": [
       "<table class=\"simpletable\">\n",
       "<caption>OLS Regression Results</caption>\n",
       "<tr>\n",
       "  <th>Dep. Variable:</th>        <td>ACC_ADD1</td>     <th>  R-squared:         </th> <td>   0.561</td>\n",
       "</tr>\n",
       "<tr>\n",
       "  <th>Model:</th>                   <td>OLS</td>       <th>  Adj. R-squared:    </th> <td>   0.545</td>\n",
       "</tr>\n",
       "<tr>\n",
       "  <th>Method:</th>             <td>Least Squares</td>  <th>  F-statistic:       </th> <td>   33.77</td>\n",
       "</tr>\n",
       "<tr>\n",
       "  <th>Date:</th>             <td>Tue, 21 Nov 2023</td> <th>  Prob (F-statistic):</th> <td>6.36e-34</td>\n",
       "</tr>\n",
       "<tr>\n",
       "  <th>Time:</th>                 <td>14:47:06</td>     <th>  Log-Likelihood:    </th> <td>  311.47</td>\n",
       "</tr>\n",
       "<tr>\n",
       "  <th>No. Observations:</th>      <td>   220</td>      <th>  AIC:               </th> <td>  -604.9</td>\n",
       "</tr>\n",
       "<tr>\n",
       "  <th>Df Residuals:</th>          <td>   211</td>      <th>  BIC:               </th> <td>  -574.4</td>\n",
       "</tr>\n",
       "<tr>\n",
       "  <th>Df Model:</th>              <td>     8</td>      <th>                     </th>     <td> </td>   \n",
       "</tr>\n",
       "<tr>\n",
       "  <th>Covariance Type:</th>      <td>nonrobust</td>    <th>                     </th>     <td> </td>   \n",
       "</tr>\n",
       "</table>\n",
       "<table class=\"simpletable\">\n",
       "<tr>\n",
       "         <td></td>           <th>coef</th>     <th>std err</th>      <th>t</th>      <th>P>|t|</th>  <th>[0.025</th>    <th>0.975]</th>  \n",
       "</tr>\n",
       "<tr>\n",
       "  <th>const</th>          <td>    0.3256</td> <td>    0.048</td> <td>    6.853</td> <td> 0.000</td> <td>    0.232</td> <td>    0.419</td>\n",
       "</tr>\n",
       "<tr>\n",
       "  <th>ACC_DIV2</th>       <td>    0.0443</td> <td>    0.022</td> <td>    2.023</td> <td> 0.044</td> <td>    0.001</td> <td>    0.087</td>\n",
       "</tr>\n",
       "<tr>\n",
       "  <th>ACC_DIV3</th>       <td>   -0.0391</td> <td>    0.017</td> <td>   -2.273</td> <td> 0.024</td> <td>   -0.073</td> <td>   -0.005</td>\n",
       "</tr>\n",
       "<tr>\n",
       "  <th>ACC_MUL1</th>       <td>    0.1772</td> <td>    0.036</td> <td>    4.862</td> <td> 0.000</td> <td>    0.105</td> <td>    0.249</td>\n",
       "</tr>\n",
       "<tr>\n",
       "  <th>ACC_MUL3</th>       <td>    0.0883</td> <td>    0.023</td> <td>    3.761</td> <td> 0.000</td> <td>    0.042</td> <td>    0.135</td>\n",
       "</tr>\n",
       "<tr>\n",
       "  <th>ACC_SUB1</th>       <td>    0.1770</td> <td>    0.026</td> <td>    6.737</td> <td> 0.000</td> <td>    0.125</td> <td>    0.229</td>\n",
       "</tr>\n",
       "<tr>\n",
       "  <th>ACC_SUB2</th>       <td>    0.0847</td> <td>    0.018</td> <td>    4.592</td> <td> 0.000</td> <td>    0.048</td> <td>    0.121</td>\n",
       "</tr>\n",
       "<tr>\n",
       "  <th>ACC_SUB3</th>       <td>    0.0745</td> <td>    0.016</td> <td>    4.777</td> <td> 0.000</td> <td>    0.044</td> <td>    0.105</td>\n",
       "</tr>\n",
       "<tr>\n",
       "  <th>RT_SUB1</th>        <td>    0.0084</td> <td>    0.003</td> <td>    2.978</td> <td> 0.003</td> <td>    0.003</td> <td>    0.014</td>\n",
       "</tr>\n",
       "<tr>\n",
       "  <th>DIFF_ACC_MUL31</th> <td>   -0.0889</td> <td>    0.018</td> <td>   -5.061</td> <td> 0.000</td> <td>   -0.123</td> <td>   -0.054</td>\n",
       "</tr>\n",
       "<tr>\n",
       "  <th>DIFF_ACC_SUB21</th> <td>   -0.0923</td> <td>    0.019</td> <td>   -4.905</td> <td> 0.000</td> <td>   -0.129</td> <td>   -0.055</td>\n",
       "</tr>\n",
       "<tr>\n",
       "  <th>DIFF_ACC_SUB31</th> <td>   -0.1025</td> <td>    0.014</td> <td>   -7.530</td> <td> 0.000</td> <td>   -0.129</td> <td>   -0.076</td>\n",
       "</tr>\n",
       "</table>\n",
       "<table class=\"simpletable\">\n",
       "<tr>\n",
       "  <th>Omnibus:</th>       <td>35.969</td> <th>  Durbin-Watson:     </th> <td>   2.179</td>\n",
       "</tr>\n",
       "<tr>\n",
       "  <th>Prob(Omnibus):</th> <td> 0.000</td> <th>  Jarque-Bera (JB):  </th> <td>  97.532</td>\n",
       "</tr>\n",
       "<tr>\n",
       "  <th>Skew:</th>          <td>-0.692</td> <th>  Prob(JB):          </th> <td>6.63e-22</td>\n",
       "</tr>\n",
       "<tr>\n",
       "  <th>Kurtosis:</th>      <td> 5.953</td> <th>  Cond. No.          </th> <td>1.11e+17</td>\n",
       "</tr>\n",
       "</table><br/><br/>Notes:<br/>[1] Standard Errors assume that the covariance matrix of the errors is correctly specified.<br/>[2] The smallest eigenvalue is 2.88e-31. This might indicate that there are<br/>strong multicollinearity problems or that the design matrix is singular."
      ],
      "text/plain": [
       "<class 'statsmodels.iolib.summary.Summary'>\n",
       "\"\"\"\n",
       "                            OLS Regression Results                            \n",
       "==============================================================================\n",
       "Dep. Variable:               ACC_ADD1   R-squared:                       0.561\n",
       "Model:                            OLS   Adj. R-squared:                  0.545\n",
       "Method:                 Least Squares   F-statistic:                     33.77\n",
       "Date:                Tue, 21 Nov 2023   Prob (F-statistic):           6.36e-34\n",
       "Time:                        14:47:06   Log-Likelihood:                 311.47\n",
       "No. Observations:                 220   AIC:                            -604.9\n",
       "Df Residuals:                     211   BIC:                            -574.4\n",
       "Df Model:                           8                                         \n",
       "Covariance Type:            nonrobust                                         \n",
       "==================================================================================\n",
       "                     coef    std err          t      P>|t|      [0.025      0.975]\n",
       "----------------------------------------------------------------------------------\n",
       "const              0.3256      0.048      6.853      0.000       0.232       0.419\n",
       "ACC_DIV2           0.0443      0.022      2.023      0.044       0.001       0.087\n",
       "ACC_DIV3          -0.0391      0.017     -2.273      0.024      -0.073      -0.005\n",
       "ACC_MUL1           0.1772      0.036      4.862      0.000       0.105       0.249\n",
       "ACC_MUL3           0.0883      0.023      3.761      0.000       0.042       0.135\n",
       "ACC_SUB1           0.1770      0.026      6.737      0.000       0.125       0.229\n",
       "ACC_SUB2           0.0847      0.018      4.592      0.000       0.048       0.121\n",
       "ACC_SUB3           0.0745      0.016      4.777      0.000       0.044       0.105\n",
       "RT_SUB1            0.0084      0.003      2.978      0.003       0.003       0.014\n",
       "DIFF_ACC_MUL31    -0.0889      0.018     -5.061      0.000      -0.123      -0.054\n",
       "DIFF_ACC_SUB21    -0.0923      0.019     -4.905      0.000      -0.129      -0.055\n",
       "DIFF_ACC_SUB31    -0.1025      0.014     -7.530      0.000      -0.129      -0.076\n",
       "==============================================================================\n",
       "Omnibus:                       35.969   Durbin-Watson:                   2.179\n",
       "Prob(Omnibus):                  0.000   Jarque-Bera (JB):               97.532\n",
       "Skew:                          -0.692   Prob(JB):                     6.63e-22\n",
       "Kurtosis:                       5.953   Cond. No.                     1.11e+17\n",
       "==============================================================================\n",
       "\n",
       "Notes:\n",
       "[1] Standard Errors assume that the covariance matrix of the errors is correctly specified.\n",
       "[2] The smallest eigenvalue is 2.88e-31. This might indicate that there are\n",
       "strong multicollinearity problems or that the design matrix is singular.\n",
       "\"\"\""
      ]
     },
     "execution_count": 18,
     "metadata": {},
     "output_type": "execute_result"
    }
   ],
   "source": [
    "results['ACC_ADD1'].summary()"
   ]
  },
  {
   "cell_type": "code",
   "execution_count": null,
   "metadata": {},
   "outputs": [],
   "source": [
    "# for name in tqdm(results):\n",
    "\n",
    "\n",
    "#     plt.rc('figure', figsize=(12, 7))\n",
    "#     #plt.text(0.01, 0.05, str(model.summary()), {'fontsize': 12}) old approach\n",
    "#     plt.text(0.01, 0.05, str(results[name].summary()), {'fontsize': 10}, fontproperties = 'monospace') # approach improved by OP -> monospace!\n",
    "#     plt.axis('off')\n",
    "#     plt.tight_layout()\n",
    "#     plt.savefig(name+'.jpg')\n",
    "#     plt.show()\n"
   ]
  },
  {
   "cell_type": "markdown",
   "metadata": {},
   "source": [
    "# ML"
   ]
  },
  {
   "cell_type": "code",
   "execution_count": 19,
   "metadata": {},
   "outputs": [],
   "source": [
    "from sklearn.linear_model import ElasticNet\n",
    "from sklearn.linear_model import BayesianRidge\n",
    "from sklearn.svm import SVR\n",
    "from sklearn.neighbors import KNeighborsRegressor\n",
    "from sklearn.gaussian_process import GaussianProcessRegressor\n",
    "from sklearn.tree import DecisionTreeRegressor\n",
    "from sklearn.ensemble import AdaBoostRegressor\n",
    "from sklearn.ensemble import GradientBoostingRegressor\n",
    "from sklearn.ensemble import RandomForestRegressor\n",
    "from sklearn.neural_network import MLPRegressor\n",
    "from xgboost import XGBRegressor\n",
    "\n",
    "from sklearn.ensemble import GradientBoostingClassifier\n",
    "from xgboost import XGBClassifier\n",
    "\n",
    "from sklearn.ensemble import RandomForestClassifier"
   ]
  },
  {
   "cell_type": "markdown",
   "metadata": {},
   "source": [
    "## Regression"
   ]
  },
  {
   "cell_type": "markdown",
   "metadata": {},
   "source": [
    "### Baseline "
   ]
  },
  {
   "cell_type": "code",
   "execution_count": 9,
   "metadata": {},
   "outputs": [],
   "source": [
    "\n",
    "regressors = [KNeighborsRegressor(7),\n",
    "    ElasticNet(),\n",
    "    BayesianRidge(),\n",
    "    SVR(C=1.0, epsilon=0.2),\n",
    "    GaussianProcessRegressor(),\n",
    "    DecisionTreeRegressor(),\n",
    "    AdaBoostRegressor(n_estimators=200),\n",
    "    GradientBoostingRegressor(n_estimators=200),\n",
    "    RandomForestRegressor(n_estimators=400),\n",
    "    MLPRegressor()\n",
    "]"
   ]
  },
  {
   "cell_type": "code",
   "execution_count": 10,
   "metadata": {},
   "outputs": [
    {
     "name": "stderr",
     "output_type": "stream",
     "text": [
      "100%|██████████| 10/10 [00:02<00:00,  4.64it/s]\n"
     ]
    }
   ],
   "source": [
    "score = {}\n",
    "y = globals()['MUL']\n",
    "\n",
    "X = Utils.make_X(df, 'MUL')\n",
    "\n",
    "X_train, X_test, y_train, y_test = train_test_split(X, y, test_size = 0.3)\n",
    "\n",
    "\n",
    "\n",
    "for model in tqdm(regressors):\n",
    "    model.fit(X_train, y_train)\n",
    "    y_pred = model.predict(X_test)\n",
    "    score[model] = mean_squared_error(y_pred,y_test, squared=False)"
   ]
  },
  {
   "cell_type": "code",
   "execution_count": 11,
   "metadata": {},
   "outputs": [
    {
     "data": {
      "text/plain": [
       "{KNeighborsRegressor(n_neighbors=7): 13.150736392162734,\n",
       " ElasticNet(): 11.189444784832082,\n",
       " BayesianRidge(): 11.003424112523298,\n",
       " SVR(epsilon=0.2): 17.067402587239716,\n",
       " GaussianProcessRegressor(): 59.52794098216196,\n",
       " DecisionTreeRegressor(): 17.009355714376188,\n",
       " AdaBoostRegressor(n_estimators=200): 11.152850855251387,\n",
       " GradientBoostingRegressor(n_estimators=200): 10.798462575200707,\n",
       " RandomForestRegressor(n_estimators=400): 10.339087347441762,\n",
       " MLPRegressor(): 23.705053771459202}"
      ]
     },
     "execution_count": 11,
     "metadata": {},
     "output_type": "execute_result"
    }
   ],
   "source": [
    "score"
   ]
  },
  {
   "cell_type": "markdown",
   "metadata": {},
   "source": [
    "### GB"
   ]
  },
  {
   "cell_type": "code",
   "execution_count": 20,
   "metadata": {},
   "outputs": [],
   "source": [
    "from xgboost import XGBRegressor\n",
    "from sklearn.model_selection import RepeatedKFold, cross_val_score\n"
   ]
  },
  {
   "cell_type": "code",
   "execution_count": 21,
   "metadata": {},
   "outputs": [
    {
     "name": "stderr",
     "output_type": "stream",
     "text": [
      "100%|██████████| 29/29 [05:22<00:00, 11.11s/it]\n"
     ]
    }
   ],
   "source": [
    "result = {}\n",
    "for name in tqdm(var_names):\n",
    "    y = globals()[name]\n",
    "    X = Utils.make_X(df, name)\n",
    "\n",
    "    op, rmse, model = models.XGBReg(X, y)\n",
    "\n",
    "    result[name] = (op, rmse, model)"
   ]
  },
  {
   "cell_type": "code",
   "execution_count": 23,
   "metadata": {},
   "outputs": [],
   "source": [
    "rmse_dic_xgb = {}\n",
    "opt_params = {}\n",
    "for elem in result:\n",
    "    rmse_dic_xgb[elem] = result[elem][1]\n",
    "    opt_params[elem] = result[elem][0]"
   ]
  },
  {
   "cell_type": "code",
   "execution_count": 24,
   "metadata": {},
   "outputs": [],
   "source": [
    "with open(\"rmse_XGB.json\", \"w\") as outfile:\n",
    "    json.dump(rmse_dic_xgb, outfile, indent=4)\n",
    "with open(\"params_XGB.json\", \"w\") as outfile:\n",
    "    json.dump(opt_params, outfile, indent=4)"
   ]
  },
  {
   "cell_type": "markdown",
   "metadata": {},
   "source": [
    "### RF"
   ]
  },
  {
   "cell_type": "code",
   "execution_count": 26,
   "metadata": {},
   "outputs": [
    {
     "name": "stderr",
     "output_type": "stream",
     "text": [
      "  0%|          | 0/29 [00:00<?, ?it/s]"
     ]
    },
    {
     "name": "stderr",
     "output_type": "stream",
     "text": [
      "100%|██████████| 29/29 [55:38<00:00, 115.11s/it]\n"
     ]
    }
   ],
   "source": [
    "result = {}\n",
    "for name in tqdm(var_names):\n",
    "    y = globals()[name]\n",
    "    X = Utils.make_X(df, name)\n",
    "\n",
    "    op, rmse, model = models.RFReg(X, y)\n",
    "\n",
    "    result[name] = (op, rmse, model)"
   ]
  },
  {
   "cell_type": "code",
   "execution_count": 27,
   "metadata": {},
   "outputs": [],
   "source": [
    "rmse_dic_rf = {}\n",
    "opt_params = {}\n",
    "for elem in result:\n",
    "    rmse_dic_rf[elem] = result[elem][1]\n",
    "    opt_params[elem] = result[elem][0]"
   ]
  },
  {
   "cell_type": "code",
   "execution_count": 28,
   "metadata": {},
   "outputs": [],
   "source": [
    "with open(\"rmse_RF.json\", \"w\") as outfile:\n",
    "    json.dump(rmse_dic_rf, outfile, indent=4)\n",
    "\n",
    "with open(\"params_RF.json\", \"w\") as outfile:\n",
    "    json.dump(opt_params, outfile, indent=4)"
   ]
  },
  {
   "cell_type": "code",
   "execution_count": null,
   "metadata": {},
   "outputs": [],
   "source": []
  },
  {
   "cell_type": "markdown",
   "metadata": {},
   "source": [
    "### Comparison"
   ]
  },
  {
   "cell_type": "code",
   "execution_count": 29,
   "metadata": {},
   "outputs": [],
   "source": [
    "with open('rmse_RF.json') as file:\n",
    "    res_rf = json.load(file)\n",
    "with open('params_RF.json') as file:\n",
    "    params_rf = json.load(file)\n",
    "\n",
    "with open('rmse_XGB.json') as file:\n",
    "    res_gb = json.load(file)\n",
    "\n",
    "with open('params_XGB.json') as file:\n",
    "    params_gb = json.load(file)"
   ]
  },
  {
   "cell_type": "code",
   "execution_count": 30,
   "metadata": {},
   "outputs": [
    {
     "name": "stderr",
     "output_type": "stream",
     "text": [
      "  0%|          | 0/29 [00:00<?, ?it/s]"
     ]
    },
    {
     "name": "stderr",
     "output_type": "stream",
     "text": [
      "100%|██████████| 29/29 [00:17<00:00,  1.66it/s]\n"
     ]
    }
   ],
   "source": [
    "opt_models = {}\n",
    "for elem in tqdm(res_rf):\n",
    "    diff = res_rf[elem] - res_gb[elem]\n",
    "    if diff > 0:\n",
    "        opt_params = params_gb[elem]\n",
    "        model = XGBRegressor(n_estimators = opt_params[0], max_depth=opt_params[1], eta=opt_params[2], colsample_bytree=opt_params[3])\n",
    "    else:\n",
    "        opt_params = params_rf[elem]\n",
    "        model = RandomForestRegressor(n_estimators=opt_params[0], max_depth=opt_params[1], min_samples_leaf=opt_params[2], min_samples_split=opt_params[3], n_jobs=-1)\n",
    "\n",
    "    X = Utils.make_X(df, elem)\n",
    "    y = globals()[name]\n",
    "    model.fit(X,y)\n",
    "\n",
    "    opt_models[elem] = model  \n",
    "\n",
    "\n",
    "FI5 = {}\n",
    "for elem in opt_models:\n",
    "    if isinstance(opt_models[elem], XGBRegressor):\n",
    "        FI = list(zip(opt_models[elem].feature_importances_, opt_models[elem].get_booster().feature_names))\n",
    "        FI5[elem] = ([(elem[1], float(elem[0])) for elem in sorted(FI, key = lambda x: x[0], reverse=True)[:5]], 'GB')\n",
    "    else:\n",
    "        FI = list(zip(opt_models[elem].feature_importances_, Utils.make_X(df, elem).columns))\n",
    "        FI5[elem] = ([(elem[1], float(elem[0])) for elem in sorted(FI, key = lambda x: x[0], reverse=True)[:5]], 'RF')\n",
    "\n",
    "    \n",
    "# with open('FeatureImportance.json', 'w') as file:\n",
    "#     json.dump(FI5, file, indent=4)"
   ]
  },
  {
   "cell_type": "code",
   "execution_count": 31,
   "metadata": {},
   "outputs": [],
   "source": [
    "with open('FeatureImportance.json', 'w') as file:\n",
    "     json.dump(FI5, file, indent=4)"
   ]
  },
  {
   "cell_type": "markdown",
   "metadata": {},
   "source": [
    "## Classification"
   ]
  },
  {
   "cell_type": "code",
   "execution_count": null,
   "metadata": {},
   "outputs": [],
   "source": [
    "#%%capture\n",
    "\n",
    "result = {}\n",
    "for name in tqdm(var_names_cls):\n",
    "    y = globals()[name]\n",
    "    X = Utils.make_X(df, name)\n",
    "\n",
    "    op, roc_auc, model = models.XGBCls(X, y)\n",
    "\n",
    "    result[name] = (op, roc_auc, model)"
   ]
  },
  {
   "cell_type": "code",
   "execution_count": 14,
   "metadata": {},
   "outputs": [],
   "source": [
    "roc_auc_dic_xgb = {}\n",
    "opt_params = {}\n",
    "for elem in result:\n",
    "    roc_auc_dic_xgb[elem] = result[elem][1]\n",
    "    opt_params[elem] = result[elem][0]"
   ]
  },
  {
   "cell_type": "code",
   "execution_count": 15,
   "metadata": {},
   "outputs": [],
   "source": [
    "with open(\"roc_auc_XGB.json\", \"w\") as outfile:\n",
    "    json.dump(roc_auc_dic_xgb, outfile, indent=4)\n",
    "with open(\"params_XGB_cls.json\", \"w\") as outfile:\n",
    "    json.dump(opt_params, outfile, indent=4)"
   ]
  },
  {
   "cell_type": "markdown",
   "metadata": {},
   "source": [
    "### RF"
   ]
  },
  {
   "cell_type": "code",
   "execution_count": 17,
   "metadata": {},
   "outputs": [
    {
     "name": "stderr",
     "output_type": "stream",
     "text": [
      "100%|██████████| 6/6 [03:19<00:00, 33.28s/it]\n"
     ]
    }
   ],
   "source": [
    "result = {}\n",
    "for name in tqdm(var_names_cls):\n",
    "    y = globals()[name]\n",
    "    X = Utils.make_X(df, name)\n",
    "\n",
    "    op, roc_auc, model = models.RFReg(X, y, task='classification')\n",
    "\n",
    "    result[name] = (op, roc_auc, model)"
   ]
  },
  {
   "cell_type": "code",
   "execution_count": 19,
   "metadata": {},
   "outputs": [],
   "source": [
    "roc_auc_dic_rf = {}\n",
    "opt_params = {}\n",
    "for elem in result:\n",
    "    roc_auc_dic_rf[elem] = result[elem][1]\n",
    "    opt_params[elem] = result[elem][0]"
   ]
  },
  {
   "cell_type": "code",
   "execution_count": 20,
   "metadata": {},
   "outputs": [],
   "source": [
    "with open(\"roc_auc_RF.json\", \"w\") as outfile:\n",
    "    json.dump(roc_auc_dic_rf, outfile, indent=4)\n",
    "\n",
    "with open(\"params_RF_cls.json\", \"w\") as outfile:\n",
    "    json.dump(opt_params, outfile, indent=4)"
   ]
  },
  {
   "cell_type": "markdown",
   "metadata": {},
   "source": [
    "### Comparison"
   ]
  },
  {
   "cell_type": "code",
   "execution_count": 21,
   "metadata": {},
   "outputs": [],
   "source": [
    "with open('roc_auc_RF.json') as file:\n",
    "    res_rf = json.load(file)\n",
    "with open('params_RF_cls.json') as file:\n",
    "    params_rf = json.load(file)\n",
    "\n",
    "with open('roc_auc_XGB.json') as file:\n",
    "    res_gb = json.load(file)\n",
    "\n",
    "with open('params_XGB_cls.json') as file:\n",
    "    params_gb = json.load(file)"
   ]
  },
  {
   "cell_type": "code",
   "execution_count": 24,
   "metadata": {},
   "outputs": [
    {
     "name": "stderr",
     "output_type": "stream",
     "text": [
      "100%|██████████| 6/6 [00:05<00:00,  1.09it/s]\n"
     ]
    }
   ],
   "source": [
    "opt_models = {}\n",
    "for elem in tqdm(res_rf):\n",
    "    diff = res_rf[elem] - res_gb[elem]\n",
    "    if diff < 0:\n",
    "        opt_params = params_gb[elem]\n",
    "        model = XGBClassifier(n_estimators = opt_params[0], max_depth=opt_params[1], colsample_bytree=opt_params[2])\n",
    "    else:\n",
    "        opt_params = params_rf[elem]\n",
    "        model = RandomForestClassifier(n_estimators=opt_params[0], max_depth=opt_params[1], min_samples_leaf=opt_params[2], min_samples_split=opt_params[3], n_jobs=-1)\n",
    "\n",
    "    X = Utils.make_X(df, elem)\n",
    "    y = globals()[name]\n",
    "    model.fit(X,y)\n",
    "\n",
    "    opt_models[elem] = model  \n",
    "\n",
    "\n",
    "FI5 = {}\n",
    "for elem in opt_models:\n",
    "    if isinstance(opt_models[elem], XGBClassifier):\n",
    "        FI = list(zip(opt_models[elem].feature_importances_, opt_models[elem].get_booster().feature_names))\n",
    "        FI5[elem] = ([(elem[1], float(elem[0])) for elem in sorted(FI, key = lambda x: x[0], reverse=True)[:5]], 'GB')\n",
    "    else:\n",
    "        FI = list(zip(opt_models[elem].feature_importances_, Utils.make_X(df, elem).columns))\n",
    "        FI5[elem] = ([(elem[1], float(elem[0])) for elem in sorted(FI, key = lambda x: x[0], reverse=True)[:5]], 'RF')\n",
    "\n",
    "    \n",
    "with open('FeatureImportance_CLS.json', 'w') as file:\n",
    "        json.dump(FI5, file, indent=4)"
   ]
  },
  {
   "cell_type": "code",
   "execution_count": 25,
   "metadata": {},
   "outputs": [
    {
     "data": {
      "text/plain": [
       "{'O_12': ([('O_SUB', 0.32385159131298313),\n",
       "   ('SUB2', 0.10272724571366676),\n",
       "   ('n_sum', 0.053846706216948106),\n",
       "   ('ADD2', 0.03916257677307681),\n",
       "   ('ADD1', 0.026345658516828276)],\n",
       "  'RF'),\n",
       " 'O_23': ([('SUB3', 0.3005105257034302),\n",
       "   ('DIFF_SUB32', 0.1838068664073944),\n",
       "   ('O_SUB', 0.18066845834255219),\n",
       "   ('SUB2', 0.16933616995811462),\n",
       "   ('DIFF_DIV21', 0.11263544857501984)],\n",
       "  'GB'),\n",
       " 'O_ADD': ([('O_SUB', 0.2886989800331861),\n",
       "   ('SUB3', 0.18133476711440022),\n",
       "   ('SUB2', 0.07537745933152891),\n",
       "   ('SUB1', 0.023852284219820802),\n",
       "   ('MUL1', 0.018234815148016458)],\n",
       "  'RF'),\n",
       " 'O_DIV': ([('O_SUB', 0.2968141662316048),\n",
       "   ('SUB3', 0.19470369796801312),\n",
       "   ('SUB2', 0.061414650142464486),\n",
       "   ('ADD2', 0.030881669427845468),\n",
       "   ('SUB1', 0.020663527255670836)],\n",
       "  'RF'),\n",
       " 'O_MUL': ([('O_SUB', 0.4333386719226837),\n",
       "   ('SUB3', 0.29542505741119385),\n",
       "   ('ADD2', 0.1271250694990158),\n",
       "   ('DIFF_ACC_SUB32', 0.03764766827225685),\n",
       "   ('ADD1', 0.0373564176261425)],\n",
       "  'GB'),\n",
       " 'O_SUB': ([('O_MUL', 0.13120858371257782),\n",
       "   ('MUL2', 0.08951757103204727),\n",
       "   ('DIFF_MUL31', 0.06743039190769196),\n",
       "   ('ADD2', 0.05793501064181328),\n",
       "   ('DIV2', 0.03623439371585846)],\n",
       "  'GB')}"
      ]
     },
     "execution_count": 25,
     "metadata": {},
     "output_type": "execute_result"
    }
   ],
   "source": [
    "FI5"
   ]
  },
  {
   "cell_type": "code",
   "execution_count": 21,
   "metadata": {},
   "outputs": [
    {
     "data": {
      "text/plain": [
       "{'O_ADD': XGBClassifier(base_score=0.5, booster='gbtree', colsample_bylevel=1,\n",
       "               colsample_bynode=1, colsample_bytree=0.6, gamma=0, gpu_id=-1,\n",
       "               importance_type='gain', interaction_constraints='',\n",
       "               learning_rate=0.300000012, max_delta_step=0, max_depth=2,\n",
       "               min_child_weight=1, missing=nan, monotone_constraints='()',\n",
       "               n_estimators=100, n_jobs=12, num_parallel_tree=1,\n",
       "               objective='multi:softprob', random_state=0, reg_alpha=0,\n",
       "               reg_lambda=1, scale_pos_weight=None, subsample=1,\n",
       "               tree_method='exact', validate_parameters=1, verbosity=None),\n",
       " 'O_DIV': XGBClassifier(base_score=0.5, booster='gbtree', colsample_bylevel=1,\n",
       "               colsample_bynode=1, colsample_bytree=0.6, gamma=0, gpu_id=-1,\n",
       "               importance_type='gain', interaction_constraints='',\n",
       "               learning_rate=0.300000012, max_delta_step=0, max_depth=2,\n",
       "               min_child_weight=1, missing=nan, monotone_constraints='()',\n",
       "               n_estimators=100, n_jobs=12, num_parallel_tree=1,\n",
       "               objective='multi:softprob', random_state=0, reg_alpha=0,\n",
       "               reg_lambda=1, scale_pos_weight=None, subsample=1,\n",
       "               tree_method='exact', validate_parameters=1, verbosity=None),\n",
       " 'O_MUL': XGBClassifier(base_score=0.5, booster='gbtree', colsample_bylevel=1,\n",
       "               colsample_bynode=1, colsample_bytree=0.6, gamma=0, gpu_id=-1,\n",
       "               importance_type='gain', interaction_constraints='',\n",
       "               learning_rate=0.300000012, max_delta_step=0, max_depth=2,\n",
       "               min_child_weight=1, missing=nan, monotone_constraints='()',\n",
       "               n_estimators=100, n_jobs=12, num_parallel_tree=1,\n",
       "               objective='multi:softprob', random_state=0, reg_alpha=0,\n",
       "               reg_lambda=1, scale_pos_weight=None, subsample=1,\n",
       "               tree_method='exact', validate_parameters=1, verbosity=None),\n",
       " 'O_SUB': RandomForestClassifier(min_samples_leaf=2, min_samples_split=5, n_jobs=-1)}"
      ]
     },
     "execution_count": 21,
     "metadata": {},
     "output_type": "execute_result"
    }
   ],
   "source": [
    "opt_models"
   ]
  },
  {
   "cell_type": "markdown",
   "metadata": {},
   "source": []
  }
 ],
 "metadata": {
  "kernelspec": {
   "display_name": "Python 3.8.14 64-bit",
   "language": "python",
   "name": "python3"
  },
  "language_info": {
   "codemirror_mode": {
    "name": "ipython",
    "version": 3
   },
   "file_extension": ".py",
   "mimetype": "text/x-python",
   "name": "python",
   "nbconvert_exporter": "python",
   "pygments_lexer": "ipython3",
   "version": "3.7.16"
  },
  "vscode": {
   "interpreter": {
    "hash": "31f2aee4e71d21fbe5cf8b01ff0e069b9275f58929596ceb00d14d90e3e16cd6"
   }
  }
 },
 "nbformat": 4,
 "nbformat_minor": 4
}
