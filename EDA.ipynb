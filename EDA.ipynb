{
 "cells": [
  {
   "cell_type": "code",
   "execution_count": 1,
   "metadata": {},
   "outputs": [],
   "source": [
    "import numpy as np \n",
    "import pandas as pd\n",
    "import json \n",
    "import matplotlib.pyplot as plt\n",
    "from sklearn.model_selection import train_test_split\n",
    "from sklearn.linear_model import Ridge\n",
    "from sklearn.tree import DecisionTreeRegressor\n",
    "from sklearn.metrics import r2_score\n",
    "from sklearn.metrics import mean_squared_error\n",
    "\n",
    "from tqdm import tqdm\n",
    "from sklearn.linear_model import ElasticNet\n",
    "import statsmodels.api as sm\n",
    "from copy import deepcopy\n",
    "\n",
    "import Utils\n",
    "import models\n",
    "\n",
    "import warnings\n",
    "warnings.filterwarnings(\"ignore\")"
   ]
  },
  {
   "cell_type": "code",
   "execution_count": 2,
   "metadata": {},
   "outputs": [],
   "source": [
    "df = pd.read_excel('Cleaned_data.xlsx')\n",
    "df = df.drop(columns=['log'])\n",
    "df['gender'] = pd.factorize(df['gender'])[0]\n",
    "\n",
    "\n",
    "df.columns = ['age', 'gender', 'ACC_ADD1', 'ACC_ADD2', 'ACC_ADD3', 'ACC_DIV1', 'ACC_DIV2', 'ACC_DIV3', 'ACC_MUL1',\n",
    "       'ACC_MUL2', 'ACC_MUL3', 'ACC_SUB1', 'ACC_SUB2', 'ACC_SUB3', 'RT_ADD1', 'RT_ADD2', 'RT_ADD3',\n",
    "       'RT_DIV1', 'RT_DIV2', 'RT_DIV3', 'RT_MUL1', 'RT_MUL2', 'RT_MUL3',\n",
    "       'RT_SUB1', 'RT_SUB2', 'RT_SUB3', 'ADD1', 'ADD2', 'ADD3', 'DIV1',\n",
    "       'DIV2', 'DIV3', 'MUL1', 'MUL2', 'MUL3', 'SUB1', 'SUB2',\n",
    "       'SUB3', 'm_score_bal', 'acc_1_bal', 'acc_2_bal', 'acc_3_bal',\n",
    "       'acc_4_bal', 'acc_5_bal', 'acc_6_bal', 'rt_1_bal', 'rt_2_bal',\n",
    "       'rt_3_bal', 'rt_4_bal', 'rt_5_bal', 'rt_6_bal', 'm_score_cl',\n",
    "       'acc_1_cl', 'acc_2_cl', 'acc_3_cl', 'acc_4_cl', 'acc_5_cl', 'acc_6_cl',\n",
    "       'rt_1_cl', 'rt_2_cl', 'rt_3_cl', 'rt_4_cl', 'rt_5_cl', 'rt_6_cl',\n",
    "       'n_sum', 'rt_mean', 'rt_cmt_mean', 'rt_bal', 'rt_cl']\n",
    "\n",
    "\n",
    "seed = 0xAB0BA\n",
    "np.random.seed(seed)"
   ]
  },
  {
   "cell_type": "code",
   "execution_count": 3,
   "metadata": {},
   "outputs": [],
   "source": [
    "types = ['ACC_', 'RT_', '']\n",
    "names = ['ADD', \"DIV\", \"MUL\", \"SUB\"]\n",
    "\n",
    "for t in types:\n",
    "    for name in names:\n",
    "        col_name = t+name\n",
    "        new_name = 'DIFF_' + col_name\n",
    "\n",
    "        df[new_name + '21'] = df[col_name+'2'] - df[col_name+'1']\n",
    "        df[new_name + '32'] = df[col_name+'3'] - df[col_name+'2']\n",
    "        df[new_name + '31'] = df[col_name+'3'] - df[col_name+'1']\n",
    "\n"
   ]
  },
  {
   "cell_type": "code",
   "execution_count": 4,
   "metadata": {},
   "outputs": [],
   "source": [
    "def create_y(df):\n",
    "    var_names = []\n",
    "    for i in range(26, 38):\n",
    "        name = df.iloc[:,i].name\n",
    "        vals = df.iloc[:,i]\n",
    "\n",
    "        var_names.append(name)\n",
    "\n",
    "        globals()[name] = vals\n",
    "\n",
    "    for i in range(2, 14):\n",
    "        name = df.iloc[:,i].name\n",
    "        vals = df.iloc[:,i]\n",
    "\n",
    "        var_names.append(name)\n",
    "\n",
    "        globals()[name] = vals\n",
    "\n",
    "\n",
    "    global ADD \n",
    "    global DIV\n",
    "    global SUB\n",
    "    global MUL\n",
    "\n",
    "    global SUM\n",
    "    \n",
    "    ADD = ADD1 + ADD2 + ADD3\n",
    "    DIV = DIV1 + DIV2 + DIV3\n",
    "    SUB = SUB1 + SUB2 + SUB3\n",
    "    MUL = MUL1 + MUL2 + MUL3\n",
    "    \n",
    "    SUM = ADD + DIV + SUB + MUL\n",
    "\n",
    "    var_names += ['ADD', 'DIV', \"MUL\", 'SUB', \"SUM\"]\n",
    "    \n",
    "    return var_names\n",
    "\n",
    "\n",
    "var_names = create_y(df)"
   ]
  },
  {
   "cell_type": "markdown",
   "metadata": {},
   "source": [
    "# Statmodels"
   ]
  },
  {
   "cell_type": "code",
   "execution_count": 18,
   "metadata": {},
   "outputs": [
    {
     "name": "stderr",
     "output_type": "stream",
     "text": [
      "100%|██████████| 29/29 [00:00<00:00, 51.01it/s]\n"
     ]
    }
   ],
   "source": [
    "results = {}\n",
    "\n",
    "for name in tqdm(var_names):\n",
    "    \n",
    "    y = globals()[name]\n",
    "    \n",
    "    X = Utils.make_X(df, name)\n",
    "    \n",
    "    y_pred, y_test, r2, mse = models.LinRegSklearn(X, y, alpha = 3.15, l1_ratio = 0.1, normalize = False, max_iter = 5000)\n",
    "    \n",
    "    results[name] = mse"
   ]
  },
  {
   "cell_type": "code",
   "execution_count": 19,
   "metadata": {},
   "outputs": [
    {
     "data": {
      "text/plain": [
       "{'ADD1': 10.718606500213202,\n",
       " 'ADD2': 4.287739120094503,\n",
       " 'ADD3': 2.8757280246249324,\n",
       " 'DIV1': 6.636674447555967,\n",
       " 'DIV2': 3.8129091368806765,\n",
       " 'DIV3': 1.9540534093153792,\n",
       " 'MUL1': 8.479028079548169,\n",
       " 'MUL2': 2.6992911340898105,\n",
       " 'MUL3': 2.286514027421679,\n",
       " 'SUB1': 6.143939318523339,\n",
       " 'SUB2': 3.1668302232292627,\n",
       " 'SUB3': 2.0025949814391217,\n",
       " 'ACC_ADD1': 0.10553090292237144,\n",
       " 'ACC_ADD2': 0.17093849736180955,\n",
       " 'ACC_ADD3': 0.21766645148978,\n",
       " 'ACC_DIV1': 0.16363677020316802,\n",
       " 'ACC_DIV2': 0.24851286131851277,\n",
       " 'ACC_DIV3': 0.2605392790692473,\n",
       " 'ACC_MUL1': 0.13637547567801594,\n",
       " 'ACC_MUL2': 0.2259187997982806,\n",
       " 'ACC_MUL3': 0.27579770173212576,\n",
       " 'ACC_SUB1': 0.13047999610681327,\n",
       " 'ACC_SUB2': 0.2536040303431101,\n",
       " 'ACC_SUB3': 0.3810692762236598,\n",
       " 'ADD': 16.64863800190257,\n",
       " 'DIV': 10.495974709699283,\n",
       " 'MUL': 11.077272921749131,\n",
       " 'SUB': 7.500171614619702,\n",
       " 'SUM': 1.1320211018099344}"
      ]
     },
     "execution_count": 19,
     "metadata": {},
     "output_type": "execute_result"
    }
   ],
   "source": [
    "results"
   ]
  },
  {
   "cell_type": "code",
   "execution_count": 52,
   "metadata": {},
   "outputs": [],
   "source": [
    "y = globals()['DIV']\n",
    "\n",
    "X = Utils.make_X(df, 'DIV')\n",
    "res = models.LinRegStatmodels(X, y)"
   ]
  },
  {
   "cell_type": "code",
   "execution_count": 53,
   "metadata": {},
   "outputs": [
    {
     "data": {
      "text/html": [
       "<table class=\"simpletable\">\n",
       "<caption>OLS Regression Results</caption>\n",
       "<tr>\n",
       "  <th>Dep. Variable:</th>            <td>y</td>        <th>  R-squared (uncentered):</th>      <td>   0.961</td> \n",
       "</tr>\n",
       "<tr>\n",
       "  <th>Model:</th>                   <td>OLS</td>       <th>  Adj. R-squared (uncentered):</th> <td>   0.959</td> \n",
       "</tr>\n",
       "<tr>\n",
       "  <th>Method:</th>             <td>Least Squares</td>  <th>  F-statistic:       </th>          <td>   572.8</td> \n",
       "</tr>\n",
       "<tr>\n",
       "  <th>Date:</th>             <td>Sat, 10 Sep 2022</td> <th>  Prob (F-statistic):</th>          <td>5.28e-143</td>\n",
       "</tr>\n",
       "<tr>\n",
       "  <th>Time:</th>                 <td>20:49:17</td>     <th>  Log-Likelihood:    </th>          <td> -834.75</td> \n",
       "</tr>\n",
       "<tr>\n",
       "  <th>No. Observations:</th>      <td>   220</td>      <th>  AIC:               </th>          <td>   1687.</td> \n",
       "</tr>\n",
       "<tr>\n",
       "  <th>Df Residuals:</th>          <td>   211</td>      <th>  BIC:               </th>          <td>   1718.</td> \n",
       "</tr>\n",
       "<tr>\n",
       "  <th>Df Model:</th>              <td>     9</td>      <th>                     </th>              <td> </td>    \n",
       "</tr>\n",
       "<tr>\n",
       "  <th>Covariance Type:</th>      <td>nonrobust</td>    <th>                     </th>              <td> </td>    \n",
       "</tr>\n",
       "</table>\n",
       "<table class=\"simpletable\">\n",
       "<tr>\n",
       "        <td></td>           <th>coef</th>     <th>std err</th>      <th>t</th>      <th>P>|t|</th>  <th>[0.025</th>    <th>0.975]</th>  \n",
       "</tr>\n",
       "<tr>\n",
       "  <th>age</th>           <td>   -0.6762</td> <td>    0.237</td> <td>   -2.858</td> <td> 0.005</td> <td>   -1.143</td> <td>   -0.210</td>\n",
       "</tr>\n",
       "<tr>\n",
       "  <th>RT_ADD1</th>       <td>    2.8565</td> <td>    0.568</td> <td>    5.030</td> <td> 0.000</td> <td>    1.737</td> <td>    3.976</td>\n",
       "</tr>\n",
       "<tr>\n",
       "  <th>RT_ADD3</th>       <td>    1.5035</td> <td>    0.360</td> <td>    4.175</td> <td> 0.000</td> <td>    0.794</td> <td>    2.213</td>\n",
       "</tr>\n",
       "<tr>\n",
       "  <th>RT_MUL2</th>       <td>   -1.1764</td> <td>    0.373</td> <td>   -3.156</td> <td> 0.002</td> <td>   -1.911</td> <td>   -0.442</td>\n",
       "</tr>\n",
       "<tr>\n",
       "  <th>ADD1</th>          <td>    0.3510</td> <td>    0.095</td> <td>    3.681</td> <td> 0.000</td> <td>    0.163</td> <td>    0.539</td>\n",
       "</tr>\n",
       "<tr>\n",
       "  <th>ADD3</th>          <td>    1.3654</td> <td>    0.262</td> <td>    5.215</td> <td> 0.000</td> <td>    0.849</td> <td>    1.882</td>\n",
       "</tr>\n",
       "<tr>\n",
       "  <th>MUL1</th>          <td>    0.8492</td> <td>    0.093</td> <td>    9.160</td> <td> 0.000</td> <td>    0.666</td> <td>    1.032</td>\n",
       "</tr>\n",
       "<tr>\n",
       "  <th>m_score_cl</th>    <td>   -1.4232</td> <td>    0.580</td> <td>   -2.456</td> <td> 0.015</td> <td>   -2.566</td> <td>   -0.281</td>\n",
       "</tr>\n",
       "<tr>\n",
       "  <th>DIFF_RT_ADD31</th> <td>   -1.3529</td> <td>    0.253</td> <td>   -5.340</td> <td> 0.000</td> <td>   -1.852</td> <td>   -0.853</td>\n",
       "</tr>\n",
       "<tr>\n",
       "  <th>DIFF_RT_SUB21</th> <td>    1.8800</td> <td>    0.468</td> <td>    4.018</td> <td> 0.000</td> <td>    0.958</td> <td>    2.802</td>\n",
       "</tr>\n",
       "</table>\n",
       "<table class=\"simpletable\">\n",
       "<tr>\n",
       "  <th>Omnibus:</th>       <td>176.546</td> <th>  Durbin-Watson:     </th> <td>   1.962</td>\n",
       "</tr>\n",
       "<tr>\n",
       "  <th>Prob(Omnibus):</th> <td> 0.000</td>  <th>  Jarque-Bera (JB):  </th> <td>5036.708</td>\n",
       "</tr>\n",
       "<tr>\n",
       "  <th>Skew:</th>          <td> 2.735</td>  <th>  Prob(JB):          </th> <td>    0.00</td>\n",
       "</tr>\n",
       "<tr>\n",
       "  <th>Kurtosis:</th>      <td>25.794</td>  <th>  Cond. No.          </th> <td>1.15e+17</td>\n",
       "</tr>\n",
       "</table><br/><br/>Notes:<br/>[1] R² is computed without centering (uncentered) since the model does not contain a constant.<br/>[2] Standard Errors assume that the covariance matrix of the errors is correctly specified.<br/>[3] The smallest eigenvalue is 6.97e-29. This might indicate that there are<br/>strong multicollinearity problems or that the design matrix is singular."
      ],
      "text/plain": [
       "<class 'statsmodels.iolib.summary.Summary'>\n",
       "\"\"\"\n",
       "                                 OLS Regression Results                                \n",
       "=======================================================================================\n",
       "Dep. Variable:                      y   R-squared (uncentered):                   0.961\n",
       "Model:                            OLS   Adj. R-squared (uncentered):              0.959\n",
       "Method:                 Least Squares   F-statistic:                              572.8\n",
       "Date:                Sat, 10 Sep 2022   Prob (F-statistic):                   5.28e-143\n",
       "Time:                        20:49:17   Log-Likelihood:                         -834.75\n",
       "No. Observations:                 220   AIC:                                      1687.\n",
       "Df Residuals:                     211   BIC:                                      1718.\n",
       "Df Model:                           9                                                  \n",
       "Covariance Type:            nonrobust                                                  \n",
       "=================================================================================\n",
       "                    coef    std err          t      P>|t|      [0.025      0.975]\n",
       "---------------------------------------------------------------------------------\n",
       "age              -0.6762      0.237     -2.858      0.005      -1.143      -0.210\n",
       "RT_ADD1           2.8565      0.568      5.030      0.000       1.737       3.976\n",
       "RT_ADD3           1.5035      0.360      4.175      0.000       0.794       2.213\n",
       "RT_MUL2          -1.1764      0.373     -3.156      0.002      -1.911      -0.442\n",
       "ADD1              0.3510      0.095      3.681      0.000       0.163       0.539\n",
       "ADD3              1.3654      0.262      5.215      0.000       0.849       1.882\n",
       "MUL1              0.8492      0.093      9.160      0.000       0.666       1.032\n",
       "m_score_cl       -1.4232      0.580     -2.456      0.015      -2.566      -0.281\n",
       "DIFF_RT_ADD31    -1.3529      0.253     -5.340      0.000      -1.852      -0.853\n",
       "DIFF_RT_SUB21     1.8800      0.468      4.018      0.000       0.958       2.802\n",
       "==============================================================================\n",
       "Omnibus:                      176.546   Durbin-Watson:                   1.962\n",
       "Prob(Omnibus):                  0.000   Jarque-Bera (JB):             5036.708\n",
       "Skew:                           2.735   Prob(JB):                         0.00\n",
       "Kurtosis:                      25.794   Cond. No.                     1.15e+17\n",
       "==============================================================================\n",
       "\n",
       "Notes:\n",
       "[1] R² is computed without centering (uncentered) since the model does not contain a constant.\n",
       "[2] Standard Errors assume that the covariance matrix of the errors is correctly specified.\n",
       "[3] The smallest eigenvalue is 6.97e-29. This might indicate that there are\n",
       "strong multicollinearity problems or that the design matrix is singular.\n",
       "\"\"\""
      ]
     },
     "execution_count": 53,
     "metadata": {},
     "output_type": "execute_result"
    }
   ],
   "source": [
    "res.summary()"
   ]
  },
  {
   "cell_type": "code",
   "execution_count": 54,
   "metadata": {},
   "outputs": [
    {
     "name": "stderr",
     "output_type": "stream",
     "text": [
      "100%|██████████| 29/29 [00:13<00:00,  2.21it/s]\n"
     ]
    }
   ],
   "source": [
    "results = {}\n",
    "\n",
    "for name in tqdm(var_names):\n",
    "    X = Utils.make_X(df, name)\n",
    "    y = globals()[name]\n",
    "    \n",
    "    res = models.LinRegStatmodels(X, y)\n",
    "    \n",
    "    r2 = res.rsquared\n",
    "    params = res.params.index\n",
    "    \n",
    "    results[name] = res"
   ]
  },
  {
   "cell_type": "code",
   "execution_count": 55,
   "metadata": {},
   "outputs": [],
   "source": [
    "params_frequency = {}\n",
    "for name in df.columns:\n",
    "    params_frequency[name] = set()\n",
    "\n",
    "params_frequency['const'] = set()\n",
    "\n",
    "for res in results:\n",
    "    for param_name in results[res].params.index:\n",
    "        params_frequency[param_name].add(res)\n",
    "\n",
    "for name in params_frequency:\n",
    "    new_input = str(params_frequency[name])\n",
    "    if new_input == 'set()':\n",
    "        new_input = ''\n",
    "    params_frequency[name] = new_input\n",
    "\n",
    "with open(\"params_in_models.json\", \"w\") as outfile:\n",
    "    json.dump(params_frequency, outfile, indent=4)\n",
    "\n",
    "\n",
    "r2_dict = {}\n",
    "for name in results:\n",
    "    r2_dict[name] = results[name].rsquared\n",
    "\n",
    "with open(\"r2_LinReg.json\", \"w\") as outfile:\n",
    "    json.dump(r2_dict, outfile, indent=4)\n",
    "\n",
    "\n",
    "rmse_dict = {}\n",
    "for name in results:\n",
    "    rmse_dict[name] = float(np.sqrt(results[name].mse_total))\n",
    "\n",
    "with open(\"rmse_LinReg.json\", \"w\") as outfile:\n",
    "    json.dump(rmse_dict, outfile, indent=4)"
   ]
  },
  {
   "cell_type": "code",
   "execution_count": 56,
   "metadata": {},
   "outputs": [
    {
     "data": {
      "text/html": [
       "<table class=\"simpletable\">\n",
       "<caption>OLS Regression Results</caption>\n",
       "<tr>\n",
       "  <th>Dep. Variable:</th>          <td>MUL2</td>       <th>  R-squared (uncentered):</th>      <td>   0.945</td> \n",
       "</tr>\n",
       "<tr>\n",
       "  <th>Model:</th>                   <td>OLS</td>       <th>  Adj. R-squared (uncentered):</th> <td>   0.942</td> \n",
       "</tr>\n",
       "<tr>\n",
       "  <th>Method:</th>             <td>Least Squares</td>  <th>  F-statistic:       </th>          <td>   327.8</td> \n",
       "</tr>\n",
       "<tr>\n",
       "  <th>Date:</th>             <td>Sat, 10 Sep 2022</td> <th>  Prob (F-statistic):</th>          <td>3.12e-125</td>\n",
       "</tr>\n",
       "<tr>\n",
       "  <th>Time:</th>                 <td>20:49:38</td>     <th>  Log-Likelihood:    </th>          <td> -520.62</td> \n",
       "</tr>\n",
       "<tr>\n",
       "  <th>No. Observations:</th>      <td>   220</td>      <th>  AIC:               </th>          <td>   1063.</td> \n",
       "</tr>\n",
       "<tr>\n",
       "  <th>Df Residuals:</th>          <td>   209</td>      <th>  BIC:               </th>          <td>   1101.</td> \n",
       "</tr>\n",
       "<tr>\n",
       "  <th>Df Model:</th>              <td>    11</td>      <th>                     </th>              <td> </td>    \n",
       "</tr>\n",
       "<tr>\n",
       "  <th>Covariance Type:</th>      <td>nonrobust</td>    <th>                     </th>              <td> </td>    \n",
       "</tr>\n",
       "</table>\n",
       "<table class=\"simpletable\">\n",
       "<tr>\n",
       "       <td></td>         <th>coef</th>     <th>std err</th>      <th>t</th>      <th>P>|t|</th>  <th>[0.025</th>    <th>0.975]</th>  \n",
       "</tr>\n",
       "<tr>\n",
       "  <th>age</th>        <td>   -0.1437</td> <td>    0.061</td> <td>   -2.369</td> <td> 0.019</td> <td>   -0.263</td> <td>   -0.024</td>\n",
       "</tr>\n",
       "<tr>\n",
       "  <th>ACC_MUL1</th>   <td>   -5.3426</td> <td>    1.532</td> <td>   -3.488</td> <td> 0.001</td> <td>   -8.362</td> <td>   -2.323</td>\n",
       "</tr>\n",
       "<tr>\n",
       "  <th>RT_ADD2</th>    <td>   -0.2673</td> <td>    0.090</td> <td>   -2.961</td> <td> 0.003</td> <td>   -0.445</td> <td>   -0.089</td>\n",
       "</tr>\n",
       "<tr>\n",
       "  <th>ADD3</th>       <td>    0.2145</td> <td>    0.080</td> <td>    2.672</td> <td> 0.008</td> <td>    0.056</td> <td>    0.373</td>\n",
       "</tr>\n",
       "<tr>\n",
       "  <th>MUL1</th>       <td>    0.1294</td> <td>    0.023</td> <td>    5.706</td> <td> 0.000</td> <td>    0.085</td> <td>    0.174</td>\n",
       "</tr>\n",
       "<tr>\n",
       "  <th>SUB1</th>       <td>    0.1425</td> <td>    0.034</td> <td>    4.164</td> <td> 0.000</td> <td>    0.075</td> <td>    0.210</td>\n",
       "</tr>\n",
       "<tr>\n",
       "  <th>SUB2</th>       <td>    0.1474</td> <td>    0.059</td> <td>    2.491</td> <td> 0.014</td> <td>    0.031</td> <td>    0.264</td>\n",
       "</tr>\n",
       "<tr>\n",
       "  <th>SUB3</th>       <td>    0.2417</td> <td>    0.058</td> <td>    4.135</td> <td> 0.000</td> <td>    0.126</td> <td>    0.357</td>\n",
       "</tr>\n",
       "<tr>\n",
       "  <th>acc_4_bal</th>  <td>    0.0653</td> <td>    0.018</td> <td>    3.623</td> <td> 0.000</td> <td>    0.030</td> <td>    0.101</td>\n",
       "</tr>\n",
       "<tr>\n",
       "  <th>rt_2_bal</th>   <td>    3.7761</td> <td>    0.812</td> <td>    4.652</td> <td> 0.000</td> <td>    2.176</td> <td>    5.376</td>\n",
       "</tr>\n",
       "<tr>\n",
       "  <th>acc_3_cl</th>   <td>   -0.0452</td> <td>    0.015</td> <td>   -3.005</td> <td> 0.003</td> <td>   -0.075</td> <td>   -0.016</td>\n",
       "</tr>\n",
       "<tr>\n",
       "  <th>DIFF_SUB31</th> <td>    0.0992</td> <td>    0.030</td> <td>    3.346</td> <td> 0.001</td> <td>    0.041</td> <td>    0.158</td>\n",
       "</tr>\n",
       "</table>\n",
       "<table class=\"simpletable\">\n",
       "<tr>\n",
       "  <th>Omnibus:</th>       <td> 7.256</td> <th>  Durbin-Watson:     </th> <td>   1.701</td>\n",
       "</tr>\n",
       "<tr>\n",
       "  <th>Prob(Omnibus):</th> <td> 0.027</td> <th>  Jarque-Bera (JB):  </th> <td>   8.033</td>\n",
       "</tr>\n",
       "<tr>\n",
       "  <th>Skew:</th>          <td> 0.304</td> <th>  Prob(JB):          </th> <td>  0.0180</td>\n",
       "</tr>\n",
       "<tr>\n",
       "  <th>Kurtosis:</th>      <td> 3.711</td> <th>  Cond. No.          </th> <td>2.99e+16</td>\n",
       "</tr>\n",
       "</table><br/><br/>Notes:<br/>[1] R² is computed without centering (uncentered) since the model does not contain a constant.<br/>[2] Standard Errors assume that the covariance matrix of the errors is correctly specified.<br/>[3] The smallest eigenvalue is 4.89e-27. This might indicate that there are<br/>strong multicollinearity problems or that the design matrix is singular."
      ],
      "text/plain": [
       "<class 'statsmodels.iolib.summary.Summary'>\n",
       "\"\"\"\n",
       "                                 OLS Regression Results                                \n",
       "=======================================================================================\n",
       "Dep. Variable:                   MUL2   R-squared (uncentered):                   0.945\n",
       "Model:                            OLS   Adj. R-squared (uncentered):              0.942\n",
       "Method:                 Least Squares   F-statistic:                              327.8\n",
       "Date:                Sat, 10 Sep 2022   Prob (F-statistic):                   3.12e-125\n",
       "Time:                        20:49:38   Log-Likelihood:                         -520.62\n",
       "No. Observations:                 220   AIC:                                      1063.\n",
       "Df Residuals:                     209   BIC:                                      1101.\n",
       "Df Model:                          11                                                  \n",
       "Covariance Type:            nonrobust                                                  \n",
       "==============================================================================\n",
       "                 coef    std err          t      P>|t|      [0.025      0.975]\n",
       "------------------------------------------------------------------------------\n",
       "age           -0.1437      0.061     -2.369      0.019      -0.263      -0.024\n",
       "ACC_MUL1      -5.3426      1.532     -3.488      0.001      -8.362      -2.323\n",
       "RT_ADD2       -0.2673      0.090     -2.961      0.003      -0.445      -0.089\n",
       "ADD3           0.2145      0.080      2.672      0.008       0.056       0.373\n",
       "MUL1           0.1294      0.023      5.706      0.000       0.085       0.174\n",
       "SUB1           0.1425      0.034      4.164      0.000       0.075       0.210\n",
       "SUB2           0.1474      0.059      2.491      0.014       0.031       0.264\n",
       "SUB3           0.2417      0.058      4.135      0.000       0.126       0.357\n",
       "acc_4_bal      0.0653      0.018      3.623      0.000       0.030       0.101\n",
       "rt_2_bal       3.7761      0.812      4.652      0.000       2.176       5.376\n",
       "acc_3_cl      -0.0452      0.015     -3.005      0.003      -0.075      -0.016\n",
       "DIFF_SUB31     0.0992      0.030      3.346      0.001       0.041       0.158\n",
       "==============================================================================\n",
       "Omnibus:                        7.256   Durbin-Watson:                   1.701\n",
       "Prob(Omnibus):                  0.027   Jarque-Bera (JB):                8.033\n",
       "Skew:                           0.304   Prob(JB):                       0.0180\n",
       "Kurtosis:                       3.711   Cond. No.                     2.99e+16\n",
       "==============================================================================\n",
       "\n",
       "Notes:\n",
       "[1] R² is computed without centering (uncentered) since the model does not contain a constant.\n",
       "[2] Standard Errors assume that the covariance matrix of the errors is correctly specified.\n",
       "[3] The smallest eigenvalue is 4.89e-27. This might indicate that there are\n",
       "strong multicollinearity problems or that the design matrix is singular.\n",
       "\"\"\""
      ]
     },
     "execution_count": 56,
     "metadata": {},
     "output_type": "execute_result"
    }
   ],
   "source": [
    "results['MUL2'].summary()"
   ]
  },
  {
   "cell_type": "code",
   "execution_count": null,
   "metadata": {},
   "outputs": [],
   "source": [
    "# for name in tqdm(results):\n",
    "\n",
    "\n",
    "#     plt.rc('figure', figsize=(12, 7))\n",
    "#     #plt.text(0.01, 0.05, str(model.summary()), {'fontsize': 12}) old approach\n",
    "#     plt.text(0.01, 0.05, str(results[name].summary()), {'fontsize': 10}, fontproperties = 'monospace') # approach improved by OP -> monospace!\n",
    "#     plt.axis('off')\n",
    "#     plt.tight_layout()\n",
    "#     plt.savefig(name+'.jpg')\n",
    "#     plt.show()\n"
   ]
  },
  {
   "cell_type": "markdown",
   "metadata": {},
   "source": [
    "# ML"
   ]
  },
  {
   "cell_type": "code",
   "execution_count": 7,
   "metadata": {},
   "outputs": [],
   "source": [
    "from sklearn.linear_model import ElasticNet\n",
    "from sklearn.linear_model import BayesianRidge\n",
    "from sklearn.svm import SVR\n",
    "from sklearn.neighbors import KNeighborsRegressor\n",
    "from sklearn.gaussian_process import GaussianProcessRegressor\n",
    "from sklearn.tree import DecisionTreeRegressor\n",
    "from sklearn.ensemble import AdaBoostRegressor\n",
    "from sklearn.ensemble import GradientBoostingRegressor\n",
    "from sklearn.ensemble import RandomForestRegressor\n",
    "from sklearn.neural_network import MLPRegressor\n"
   ]
  },
  {
   "cell_type": "code",
   "execution_count": 9,
   "metadata": {},
   "outputs": [],
   "source": [
    "\n",
    "regressors = [KNeighborsRegressor(7),\n",
    "    ElasticNet(),\n",
    "    BayesianRidge(),\n",
    "    SVR(C=1.0, epsilon=0.2),\n",
    "    GaussianProcessRegressor(),\n",
    "    DecisionTreeRegressor(),\n",
    "    AdaBoostRegressor(n_estimators=200),\n",
    "    GradientBoostingRegressor(n_estimators=200),\n",
    "    RandomForestRegressor(n_estimators=400),\n",
    "    MLPRegressor()\n",
    "]"
   ]
  },
  {
   "cell_type": "code",
   "execution_count": 10,
   "metadata": {},
   "outputs": [
    {
     "name": "stderr",
     "output_type": "stream",
     "text": [
      "100%|██████████| 10/10 [00:02<00:00,  4.64it/s]\n"
     ]
    }
   ],
   "source": [
    "score = {}\n",
    "y = globals()['MUL']\n",
    "\n",
    "X = Utils.make_X(df, 'MUL')\n",
    "\n",
    "X_train, X_test, y_train, y_test = train_test_split(X, y, test_size = 0.3)\n",
    "\n",
    "\n",
    "\n",
    "for model in tqdm(regressors):\n",
    "    model.fit(X_train, y_train)\n",
    "    y_pred = model.predict(X_test)\n",
    "    score[model] = mean_squared_error(y_pred,y_test, squared=False)"
   ]
  },
  {
   "cell_type": "code",
   "execution_count": 11,
   "metadata": {},
   "outputs": [
    {
     "data": {
      "text/plain": [
       "{KNeighborsRegressor(n_neighbors=7): 13.150736392162734,\n",
       " ElasticNet(): 11.189444784832082,\n",
       " BayesianRidge(): 11.003424112523298,\n",
       " SVR(epsilon=0.2): 17.067402587239716,\n",
       " GaussianProcessRegressor(): 59.52794098216196,\n",
       " DecisionTreeRegressor(): 17.009355714376188,\n",
       " AdaBoostRegressor(n_estimators=200): 11.152850855251387,\n",
       " GradientBoostingRegressor(n_estimators=200): 10.798462575200707,\n",
       " RandomForestRegressor(n_estimators=400): 10.339087347441762,\n",
       " MLPRegressor(): 23.705053771459202}"
      ]
     },
     "execution_count": 11,
     "metadata": {},
     "output_type": "execute_result"
    }
   ],
   "source": [
    "score"
   ]
  },
  {
   "cell_type": "markdown",
   "metadata": {},
   "source": [
    "## GB"
   ]
  },
  {
   "cell_type": "code",
   "execution_count": 79,
   "metadata": {},
   "outputs": [],
   "source": [
    "from xgboost import XGBRegressor\n",
    "from sklearn.model_selection import RepeatedKFold, cross_val_score\n"
   ]
  },
  {
   "cell_type": "code",
   "execution_count": 13,
   "metadata": {},
   "outputs": [
    {
     "name": "stderr",
     "output_type": "stream",
     "text": [
      "100%|██████████| 29/29 [38:57<00:00, 80.59s/it]\n"
     ]
    }
   ],
   "source": [
    "result = {}\n",
    "for name in tqdm(var_names):\n",
    "    y = globals()[name]\n",
    "    X = Utils.make_X(df, name)\n",
    "\n",
    "    op, rmse, model = models.XGBReg(X, y)\n",
    "\n",
    "    result[name] = (op, rmse, model)"
   ]
  },
  {
   "cell_type": "code",
   "execution_count": 15,
   "metadata": {},
   "outputs": [],
   "source": [
    "rmse_dic_xgb = {}\n",
    "opt_params = {}\n",
    "for elem in result:\n",
    "    rmse_dic_xgb[elem] = result[elem][1]\n",
    "    opt_params[elem] = result[elem][0]"
   ]
  },
  {
   "cell_type": "code",
   "execution_count": 23,
   "metadata": {},
   "outputs": [],
   "source": [
    "with open(\"rmse_XGB.json\", \"w\") as outfile:\n",
    "    json.dump(rmse_dic_xgb, outfile, indent=4)"
   ]
  },
  {
   "cell_type": "code",
   "execution_count": 24,
   "metadata": {},
   "outputs": [],
   "source": [
    "with open(\"params_XGB.json\", \"w\") as outfile:\n",
    "    json.dump(opt_params, outfile, indent=4)"
   ]
  }
 ],
 "metadata": {
  "kernelspec": {
   "display_name": "Python 3.7.6 ('base')",
   "language": "python",
   "name": "python3"
  },
  "language_info": {
   "codemirror_mode": {
    "name": "ipython",
    "version": 3
   },
   "file_extension": ".py",
   "mimetype": "text/x-python",
   "name": "python",
   "nbconvert_exporter": "python",
   "pygments_lexer": "ipython3",
   "version": "3.7.6"
  },
  "vscode": {
   "interpreter": {
    "hash": "92d26938485ea6bea67bf2e2bb4662b06e39d7cc20cef26f940ca706eab939d3"
   }
  }
 },
 "nbformat": 4,
 "nbformat_minor": 4
}
